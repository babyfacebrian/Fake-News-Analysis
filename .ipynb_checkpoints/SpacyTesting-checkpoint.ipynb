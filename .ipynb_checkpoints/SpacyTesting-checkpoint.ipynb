{
 "cells": [
  {
   "cell_type": "code",
   "execution_count": 3,
   "metadata": {},
   "outputs": [],
   "source": [
    "import pandas as pd\n",
    "import numpy as np\n",
    "\n",
    "# Custom Code imports\n",
    "import sys\n",
    "sys.path.insert(0, '/Users/briankalinowski/PycharmProjects/FakeNewsChallenge/Code')\n",
    "import DataProcessing as pro\n",
    "\n",
    "import spacy\n",
    "nlp = spacy.load('en_core_web_lg')  # load large model"
   ]
  },
  {
   "cell_type": "code",
   "execution_count": 6,
   "metadata": {},
   "outputs": [
    {
     "data": {
      "text/html": [
       "<div>\n",
       "<style scoped>\n",
       "    .dataframe tbody tr th:only-of-type {\n",
       "        vertical-align: middle;\n",
       "    }\n",
       "\n",
       "    .dataframe tbody tr th {\n",
       "        vertical-align: top;\n",
       "    }\n",
       "\n",
       "    .dataframe thead th {\n",
       "        text-align: right;\n",
       "    }\n",
       "</style>\n",
       "<table border=\"1\" class=\"dataframe\">\n",
       "  <thead>\n",
       "    <tr style=\"text-align: right;\">\n",
       "      <th></th>\n",
       "      <th>headline</th>\n",
       "      <th>body_id</th>\n",
       "      <th>stance</th>\n",
       "      <th>articlebody</th>\n",
       "    </tr>\n",
       "  </thead>\n",
       "  <tbody>\n",
       "    <tr>\n",
       "      <td>0</td>\n",
       "      <td>Soldier shot near Canadian parliament building</td>\n",
       "      <td>0</td>\n",
       "      <td>unrelated</td>\n",
       "      <td>A small meteorite crashed into a wooded area i...</td>\n",
       "    </tr>\n",
       "    <tr>\n",
       "      <td>1</td>\n",
       "      <td>Caught a catfish record in Po: 127 kg and 2.67...</td>\n",
       "      <td>0</td>\n",
       "      <td>unrelated</td>\n",
       "      <td>A small meteorite crashed into a wooded area i...</td>\n",
       "    </tr>\n",
       "    <tr>\n",
       "      <td>2</td>\n",
       "      <td>Enormous 20-stone catfish caught with fishing ...</td>\n",
       "      <td>0</td>\n",
       "      <td>unrelated</td>\n",
       "      <td>A small meteorite crashed into a wooded area i...</td>\n",
       "    </tr>\n",
       "    <tr>\n",
       "      <td>3</td>\n",
       "      <td>Soldier shot at war memorial in Canada</td>\n",
       "      <td>0</td>\n",
       "      <td>unrelated</td>\n",
       "      <td>A small meteorite crashed into a wooded area i...</td>\n",
       "    </tr>\n",
       "    <tr>\n",
       "      <td>4</td>\n",
       "      <td>A soldier has been shot at Canada’s war memori...</td>\n",
       "      <td>0</td>\n",
       "      <td>unrelated</td>\n",
       "      <td>A small meteorite crashed into a wooded area i...</td>\n",
       "    </tr>\n",
       "  </tbody>\n",
       "</table>\n",
       "</div>"
      ],
      "text/plain": [
       "                                            headline  body_id     stance  \\\n",
       "0     Soldier shot near Canadian parliament building        0  unrelated   \n",
       "1  Caught a catfish record in Po: 127 kg and 2.67...        0  unrelated   \n",
       "2  Enormous 20-stone catfish caught with fishing ...        0  unrelated   \n",
       "3             Soldier shot at war memorial in Canada        0  unrelated   \n",
       "4  A soldier has been shot at Canada’s war memori...        0  unrelated   \n",
       "\n",
       "                                         articlebody  \n",
       "0  A small meteorite crashed into a wooded area i...  \n",
       "1  A small meteorite crashed into a wooded area i...  \n",
       "2  A small meteorite crashed into a wooded area i...  \n",
       "3  A small meteorite crashed into a wooded area i...  \n",
       "4  A small meteorite crashed into a wooded area i...  "
      ]
     },
     "execution_count": 6,
     "metadata": {},
     "output_type": "execute_result"
    }
   ],
   "source": [
    "# Data imports\n",
    "\n",
    "news_bodies = pd.read_csv('/Users/briankalinowski/PycharmProjects/FakeNewsChallenge/Data/FakeNewsChallenge/Training/train_bodies.csv')\n",
    "news_stances = pd.read_csv('/Users/briankalinowski/PycharmProjects/FakeNewsChallenge/Data/FakeNewsChallenge/Training/train_stances.csv')\n",
    "\n",
    "# Format column names\n",
    "news_bodies.columns = pro.clean_columns(list(news_bodies.columns))\n",
    "news_stances.columns = pro.clean_columns(list(news_stances.columns))\n",
    "\n",
    "# sort by body_id column\n",
    "news_bodies = news_bodies.sort_values(by=['body_id']).reset_index(drop=True)\n",
    "news_stances = news_stances.sort_values(by=['body_id']).reset_index(drop=True)\n",
    "\n",
    "# merge data\n",
    "news_data_full = news_stances.merge(news_bodies, on='body_id', how='left')\n",
    "news_data_full.head()"
   ]
  },
  {
   "cell_type": "code",
   "execution_count": 10,
   "metadata": {},
   "outputs": [],
   "source": [
    "def spacy_similiarty(row):\n",
    "    t1 = nlp(row['headline'])\n",
    "    t2 = nlp(row['articlebody'])\n",
    "    return t1.similarity(t2)"
   ]
  },
  {
   "cell_type": "code",
   "execution_count": 12,
   "metadata": {},
   "outputs": [],
   "source": [
    "#news_data_full['spacy_similarity'] = news_data_full.apply(lambda row: spacy_similiarty(row), axis=1)"
   ]
  },
  {
   "cell_type": "code",
   "execution_count": 17,
   "metadata": {},
   "outputs": [
    {
     "name": "stderr",
     "output_type": "stream",
     "text": [
      "/anaconda/envs/FakeNewsChallenge/lib/python3.7/site-packages/ipykernel_launcher.py:3: SettingWithCopyWarning: \n",
      "A value is trying to be set on a copy of a slice from a DataFrame.\n",
      "Try using .loc[row_indexer,col_indexer] = value instead\n",
      "\n",
      "See the caveats in the documentation: http://pandas.pydata.org/pandas-docs/stable/user_guide/indexing.html#returning-a-view-versus-a-copy\n",
      "  This is separate from the ipykernel package so we can avoid doing imports until\n"
     ]
    }
   ],
   "source": [
    "sample = news_data_full[:20]\n",
    "\n",
    "sample['spacy_similarity'] = sample.apply(lambda row: spacy_similiarty(row), axis=1)"
   ]
  },
  {
   "cell_type": "code",
   "execution_count": 18,
   "metadata": {},
   "outputs": [
    {
     "data": {
      "text/html": [
       "<div>\n",
       "<style scoped>\n",
       "    .dataframe tbody tr th:only-of-type {\n",
       "        vertical-align: middle;\n",
       "    }\n",
       "\n",
       "    .dataframe tbody tr th {\n",
       "        vertical-align: top;\n",
       "    }\n",
       "\n",
       "    .dataframe thead th {\n",
       "        text-align: right;\n",
       "    }\n",
       "</style>\n",
       "<table border=\"1\" class=\"dataframe\">\n",
       "  <thead>\n",
       "    <tr style=\"text-align: right;\">\n",
       "      <th></th>\n",
       "      <th>headline</th>\n",
       "      <th>body_id</th>\n",
       "      <th>stance</th>\n",
       "      <th>articlebody</th>\n",
       "      <th>spacy_similarity</th>\n",
       "    </tr>\n",
       "  </thead>\n",
       "  <tbody>\n",
       "    <tr>\n",
       "      <td>0</td>\n",
       "      <td>Soldier shot near Canadian parliament building</td>\n",
       "      <td>0</td>\n",
       "      <td>unrelated</td>\n",
       "      <td>A small meteorite crashed into a wooded area i...</td>\n",
       "      <td>0.714347</td>\n",
       "    </tr>\n",
       "    <tr>\n",
       "      <td>1</td>\n",
       "      <td>Caught a catfish record in Po: 127 kg and 2.67...</td>\n",
       "      <td>0</td>\n",
       "      <td>unrelated</td>\n",
       "      <td>A small meteorite crashed into a wooded area i...</td>\n",
       "      <td>0.644424</td>\n",
       "    </tr>\n",
       "    <tr>\n",
       "      <td>2</td>\n",
       "      <td>Enormous 20-stone catfish caught with fishing ...</td>\n",
       "      <td>0</td>\n",
       "      <td>unrelated</td>\n",
       "      <td>A small meteorite crashed into a wooded area i...</td>\n",
       "      <td>0.742331</td>\n",
       "    </tr>\n",
       "    <tr>\n",
       "      <td>3</td>\n",
       "      <td>Soldier shot at war memorial in Canada</td>\n",
       "      <td>0</td>\n",
       "      <td>unrelated</td>\n",
       "      <td>A small meteorite crashed into a wooded area i...</td>\n",
       "      <td>0.735592</td>\n",
       "    </tr>\n",
       "    <tr>\n",
       "      <td>4</td>\n",
       "      <td>A soldier has been shot at Canada’s war memori...</td>\n",
       "      <td>0</td>\n",
       "      <td>unrelated</td>\n",
       "      <td>A small meteorite crashed into a wooded area i...</td>\n",
       "      <td>0.905747</td>\n",
       "    </tr>\n",
       "  </tbody>\n",
       "</table>\n",
       "</div>"
      ],
      "text/plain": [
       "                                            headline  body_id     stance  \\\n",
       "0     Soldier shot near Canadian parliament building        0  unrelated   \n",
       "1  Caught a catfish record in Po: 127 kg and 2.67...        0  unrelated   \n",
       "2  Enormous 20-stone catfish caught with fishing ...        0  unrelated   \n",
       "3             Soldier shot at war memorial in Canada        0  unrelated   \n",
       "4  A soldier has been shot at Canada’s war memori...        0  unrelated   \n",
       "\n",
       "                                         articlebody  spacy_similarity  \n",
       "0  A small meteorite crashed into a wooded area i...          0.714347  \n",
       "1  A small meteorite crashed into a wooded area i...          0.644424  \n",
       "2  A small meteorite crashed into a wooded area i...          0.742331  \n",
       "3  A small meteorite crashed into a wooded area i...          0.735592  \n",
       "4  A small meteorite crashed into a wooded area i...          0.905747  "
      ]
     },
     "execution_count": 18,
     "metadata": {},
     "output_type": "execute_result"
    }
   ],
   "source": [
    "sample.head()"
   ]
  },
  {
   "cell_type": "code",
   "execution_count": null,
   "metadata": {},
   "outputs": [],
   "source": []
  }
 ],
 "metadata": {
  "kernelspec": {
   "display_name": "Python 3",
   "language": "python",
   "name": "python3"
  },
  "language_info": {
   "codemirror_mode": {
    "name": "ipython",
    "version": 3
   },
   "file_extension": ".py",
   "mimetype": "text/x-python",
   "name": "python",
   "nbconvert_exporter": "python",
   "pygments_lexer": "ipython3",
   "version": "3.7.4"
  }
 },
 "nbformat": 4,
 "nbformat_minor": 2
}
