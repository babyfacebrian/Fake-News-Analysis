{
 "cells": [
  {
   "cell_type": "code",
   "execution_count": 1,
   "metadata": {},
   "outputs": [],
   "source": [
    "import pandas as pd\n",
    "import numpy as np"
   ]
  },
  {
   "cell_type": "code",
   "execution_count": 8,
   "metadata": {},
   "outputs": [
    {
     "data": {
      "text/html": [
       "<div>\n",
       "<style scoped>\n",
       "    .dataframe tbody tr th:only-of-type {\n",
       "        vertical-align: middle;\n",
       "    }\n",
       "\n",
       "    .dataframe tbody tr th {\n",
       "        vertical-align: top;\n",
       "    }\n",
       "\n",
       "    .dataframe thead th {\n",
       "        text-align: right;\n",
       "    }\n",
       "</style>\n",
       "<table border=\"1\" class=\"dataframe\">\n",
       "  <thead>\n",
       "    <tr style=\"text-align: right;\">\n",
       "      <th></th>\n",
       "      <th>title</th>\n",
       "      <th>text</th>\n",
       "      <th>type</th>\n",
       "      <th>tokenized_headline</th>\n",
       "      <th>tokenized_content</th>\n",
       "      <th>valid_score</th>\n",
       "    </tr>\n",
       "  </thead>\n",
       "  <tbody>\n",
       "    <tr>\n",
       "      <th>0</th>\n",
       "      <td>Muslims BUSTED They Stole Millions In Govt Ben...</td>\n",
       "      <td>Print They should pay all the back all the mon...</td>\n",
       "      <td>bias</td>\n",
       "      <td>muslims</td>\n",
       "      <td>somalis</td>\n",
       "      <td>0</td>\n",
       "    </tr>\n",
       "    <tr>\n",
       "      <th>1</th>\n",
       "      <td>Re Why Did Attorney General Loretta Lynch Plea...</td>\n",
       "      <td>Why Did Attorney General Loretta Lynch Plead T...</td>\n",
       "      <td>bias</td>\n",
       "      <td>loretta lynch</td>\n",
       "      <td>loretta lynch barracuda brigade iran loretta l...</td>\n",
       "      <td>0</td>\n",
       "    </tr>\n",
       "    <tr>\n",
       "      <th>2</th>\n",
       "      <td>BREAKING Weiner Cooperating With FBI On Hillar...</td>\n",
       "      <td>Red State Fox News Sunday reported this mornin...</td>\n",
       "      <td>bias</td>\n",
       "      <td>weiner fbi hillary email investigation</td>\n",
       "      <td>red state fox news anthony weiner fbi hillary ...</td>\n",
       "      <td>0</td>\n",
       "    </tr>\n",
       "    <tr>\n",
       "      <th>3</th>\n",
       "      <td>PIN DROP SPEECH BY FATHER OF DAUGHTER Kidnappe...</td>\n",
       "      <td>Email Kayla Mueller was a prisoner and torture...</td>\n",
       "      <td>bias</td>\n",
       "      <td>donald j. trump</td>\n",
       "      <td>kayla mueller isis carl mueller donald trump</td>\n",
       "      <td>0</td>\n",
       "    </tr>\n",
       "    <tr>\n",
       "      <th>4</th>\n",
       "      <td>FANTASTIC! TRUMPS 7 POINT PLAN To Reform Healt...</td>\n",
       "      <td>Email HEALTHCARE REFORM TO MAKE AMERICA GREAT ...</td>\n",
       "      <td>bias</td>\n",
       "      <td>notokes</td>\n",
       "      <td>house senate obamacare obamacare democrats oba...</td>\n",
       "      <td>0</td>\n",
       "    </tr>\n",
       "  </tbody>\n",
       "</table>\n",
       "</div>"
      ],
      "text/plain": [
       "                                               title  \\\n",
       "0  Muslims BUSTED They Stole Millions In Govt Ben...   \n",
       "1  Re Why Did Attorney General Loretta Lynch Plea...   \n",
       "2  BREAKING Weiner Cooperating With FBI On Hillar...   \n",
       "3  PIN DROP SPEECH BY FATHER OF DAUGHTER Kidnappe...   \n",
       "4  FANTASTIC! TRUMPS 7 POINT PLAN To Reform Healt...   \n",
       "\n",
       "                                                text  type  \\\n",
       "0  Print They should pay all the back all the mon...  bias   \n",
       "1  Why Did Attorney General Loretta Lynch Plead T...  bias   \n",
       "2  Red State Fox News Sunday reported this mornin...  bias   \n",
       "3  Email Kayla Mueller was a prisoner and torture...  bias   \n",
       "4  Email HEALTHCARE REFORM TO MAKE AMERICA GREAT ...  bias   \n",
       "\n",
       "                       tokenized_headline  \\\n",
       "0                                 muslims   \n",
       "1                           loretta lynch   \n",
       "2  weiner fbi hillary email investigation   \n",
       "3                         donald j. trump   \n",
       "4                                 notokes   \n",
       "\n",
       "                                   tokenized_content  valid_score  \n",
       "0                                            somalis            0  \n",
       "1  loretta lynch barracuda brigade iran loretta l...            0  \n",
       "2  red state fox news anthony weiner fbi hillary ...            0  \n",
       "3       kayla mueller isis carl mueller donald trump            0  \n",
       "4  house senate obamacare obamacare democrats oba...            0  "
      ]
     },
     "execution_count": 8,
     "metadata": {},
     "output_type": "execute_result"
    }
   ],
   "source": [
    "fake_news_content = pd.read_csv('/Users/briankalinowski/Desktop/Data/fake_news_nlp_content.csv')\n",
    "fake_news_content['valid_score'] = 0\n",
    "fake_news_content.head()"
   ]
  },
  {
   "cell_type": "code",
   "execution_count": 9,
   "metadata": {},
   "outputs": [
    {
     "data": {
      "text/html": [
       "<div>\n",
       "<style scoped>\n",
       "    .dataframe tbody tr th:only-of-type {\n",
       "        vertical-align: middle;\n",
       "    }\n",
       "\n",
       "    .dataframe tbody tr th {\n",
       "        vertical-align: top;\n",
       "    }\n",
       "\n",
       "    .dataframe thead th {\n",
       "        text-align: right;\n",
       "    }\n",
       "</style>\n",
       "<table border=\"1\" class=\"dataframe\">\n",
       "  <thead>\n",
       "    <tr style=\"text-align: right;\">\n",
       "      <th></th>\n",
       "      <th>title</th>\n",
       "      <th>text</th>\n",
       "      <th>type</th>\n",
       "      <th>tokenized_headline</th>\n",
       "      <th>tokenized_content</th>\n",
       "      <th>valid_score</th>\n",
       "    </tr>\n",
       "  </thead>\n",
       "  <tbody>\n",
       "    <tr>\n",
       "      <th>0</th>\n",
       "      <td>New Guideline Will Allow FirstYear Doctors to ...</td>\n",
       "      <td>doctors in training will now be permitted to w...</td>\n",
       "      <td>New York Times</td>\n",
       "      <td>new york times</td>\n",
       "      <td>united states accreditation council graduate m...</td>\n",
       "      <td>1</td>\n",
       "    </tr>\n",
       "    <tr>\n",
       "      <th>1</th>\n",
       "      <td>Retesting of Doping Samples Could Bar Dozens F...</td>\n",
       "      <td>Dozens of athletes expecting to compete at the...</td>\n",
       "      <td>New York Times</td>\n",
       "      <td>new york times</td>\n",
       "      <td>rio de janeiro games international olympic com...</td>\n",
       "      <td>1</td>\n",
       "    </tr>\n",
       "    <tr>\n",
       "      <th>2</th>\n",
       "      <td>Alis Least Memorable Fight The New York Times</td>\n",
       "      <td>Muhammad Ali, who died Friday, was part of som...</td>\n",
       "      <td>New York Times</td>\n",
       "      <td>alis</td>\n",
       "      <td>muhammad ali united states bicentennial ali to...</td>\n",
       "      <td>1</td>\n",
       "    </tr>\n",
       "    <tr>\n",
       "      <th>3</th>\n",
       "      <td>Protests Erupt in Charlotte After Police Kill ...</td>\n",
       "      <td>About 16 police officers in Charlotte, N. C. w...</td>\n",
       "      <td>New York Times</td>\n",
       "      <td>protest charlotte new york times</td>\n",
       "      <td>charlotte n. c. interstate kerr putney univers...</td>\n",
       "      <td>1</td>\n",
       "    </tr>\n",
       "    <tr>\n",
       "      <th>4</th>\n",
       "      <td>Amy Adams on Eyes That Deceive The New York Times</td>\n",
       "      <td>Amy Adams has received five Oscar nominations ...</td>\n",
       "      <td>New York Times</td>\n",
       "      <td>amy adams new york times</td>\n",
       "      <td>amy adams oscar denis villeneuves arrival holl...</td>\n",
       "      <td>1</td>\n",
       "    </tr>\n",
       "  </tbody>\n",
       "</table>\n",
       "</div>"
      ],
      "text/plain": [
       "                                               title  \\\n",
       "0  New Guideline Will Allow FirstYear Doctors to ...   \n",
       "1  Retesting of Doping Samples Could Bar Dozens F...   \n",
       "2      Alis Least Memorable Fight The New York Times   \n",
       "3  Protests Erupt in Charlotte After Police Kill ...   \n",
       "4  Amy Adams on Eyes That Deceive The New York Times   \n",
       "\n",
       "                                                text            type  \\\n",
       "0  doctors in training will now be permitted to w...  New York Times   \n",
       "1  Dozens of athletes expecting to compete at the...  New York Times   \n",
       "2  Muhammad Ali, who died Friday, was part of som...  New York Times   \n",
       "3  About 16 police officers in Charlotte, N. C. w...  New York Times   \n",
       "4  Amy Adams has received five Oscar nominations ...  New York Times   \n",
       "\n",
       "                 tokenized_headline  \\\n",
       "0                    new york times   \n",
       "1                    new york times   \n",
       "2                              alis   \n",
       "3  protest charlotte new york times   \n",
       "4          amy adams new york times   \n",
       "\n",
       "                                   tokenized_content  valid_score  \n",
       "0  united states accreditation council graduate m...            1  \n",
       "1  rio de janeiro games international olympic com...            1  \n",
       "2  muhammad ali united states bicentennial ali to...            1  \n",
       "3  charlotte n. c. interstate kerr putney univers...            1  \n",
       "4  amy adams oscar denis villeneuves arrival holl...            1  "
      ]
     },
     "execution_count": 9,
     "metadata": {},
     "output_type": "execute_result"
    }
   ],
   "source": [
    "real_news_content = pd.read_csv('/Users/briankalinowski/Desktop/Data/real_news_nlp_content.csv')\n",
    "real_news_content['valid_score'] = 1\n",
    "real_news_content.head()"
   ]
  },
  {
   "cell_type": "code",
   "execution_count": 11,
   "metadata": {},
   "outputs": [],
   "source": [
    "real_and_fake_news = fake_news_content.append(real_news_content, ignore_index=True)"
   ]
  },
  {
   "cell_type": "code",
   "execution_count": 14,
   "metadata": {},
   "outputs": [
    {
     "data": {
      "text/plain": [
       "1    14484\n",
       "0    12357\n",
       "Name: valid_score, dtype: int64"
      ]
     },
     "execution_count": 14,
     "metadata": {},
     "output_type": "execute_result"
    }
   ],
   "source": [
    "real_and_fake_news.valid_score.value_counts()"
   ]
  },
  {
   "cell_type": "code",
   "execution_count": 23,
   "metadata": {},
   "outputs": [],
   "source": [
    "news_content_final = real_and_fake_news[real_and_fake_news.tokenized_content != 'notokes']"
   ]
  },
  {
   "cell_type": "code",
   "execution_count": 24,
   "metadata": {},
   "outputs": [
    {
     "data": {
      "text/plain": [
       "1    14477\n",
       "0    11750\n",
       "Name: valid_score, dtype: int64"
      ]
     },
     "execution_count": 24,
     "metadata": {},
     "output_type": "execute_result"
    }
   ],
   "source": [
    "news_content_final.valid_score.value_counts()"
   ]
  },
  {
   "cell_type": "code",
   "execution_count": 25,
   "metadata": {},
   "outputs": [
    {
     "data": {
      "text/plain": [
       "(26227, 6)"
      ]
     },
     "execution_count": 25,
     "metadata": {},
     "output_type": "execute_result"
    }
   ],
   "source": [
    "news_content_final.shape"
   ]
  },
  {
   "cell_type": "code",
   "execution_count": 28,
   "metadata": {},
   "outputs": [],
   "source": [
    "news_content_final.to_csv('/Users/briankalinowski/Desktop/Data/news_content_final.csv', header=True, index=None)"
   ]
  },
  {
   "cell_type": "code",
   "execution_count": 29,
   "metadata": {},
   "outputs": [
    {
     "data": {
      "text/html": [
       "<div>\n",
       "<style scoped>\n",
       "    .dataframe tbody tr th:only-of-type {\n",
       "        vertical-align: middle;\n",
       "    }\n",
       "\n",
       "    .dataframe tbody tr th {\n",
       "        vertical-align: top;\n",
       "    }\n",
       "\n",
       "    .dataframe thead th {\n",
       "        text-align: right;\n",
       "    }\n",
       "</style>\n",
       "<table border=\"1\" class=\"dataframe\">\n",
       "  <thead>\n",
       "    <tr style=\"text-align: right;\">\n",
       "      <th></th>\n",
       "      <th>title</th>\n",
       "      <th>text</th>\n",
       "      <th>type</th>\n",
       "      <th>tokenized_headline</th>\n",
       "      <th>tokenized_content</th>\n",
       "      <th>valid_score</th>\n",
       "    </tr>\n",
       "  </thead>\n",
       "  <tbody>\n",
       "    <tr>\n",
       "      <th>0</th>\n",
       "      <td>Muslims BUSTED They Stole Millions In Govt Ben...</td>\n",
       "      <td>Print They should pay all the back all the mon...</td>\n",
       "      <td>bias</td>\n",
       "      <td>muslims</td>\n",
       "      <td>somalis</td>\n",
       "      <td>0</td>\n",
       "    </tr>\n",
       "    <tr>\n",
       "      <th>1</th>\n",
       "      <td>Re Why Did Attorney General Loretta Lynch Plea...</td>\n",
       "      <td>Why Did Attorney General Loretta Lynch Plead T...</td>\n",
       "      <td>bias</td>\n",
       "      <td>loretta lynch</td>\n",
       "      <td>loretta lynch barracuda brigade iran loretta l...</td>\n",
       "      <td>0</td>\n",
       "    </tr>\n",
       "    <tr>\n",
       "      <th>2</th>\n",
       "      <td>BREAKING Weiner Cooperating With FBI On Hillar...</td>\n",
       "      <td>Red State Fox News Sunday reported this mornin...</td>\n",
       "      <td>bias</td>\n",
       "      <td>weiner fbi hillary email investigation</td>\n",
       "      <td>red state fox news anthony weiner fbi hillary ...</td>\n",
       "      <td>0</td>\n",
       "    </tr>\n",
       "    <tr>\n",
       "      <th>3</th>\n",
       "      <td>PIN DROP SPEECH BY FATHER OF DAUGHTER Kidnappe...</td>\n",
       "      <td>Email Kayla Mueller was a prisoner and torture...</td>\n",
       "      <td>bias</td>\n",
       "      <td>donald j. trump</td>\n",
       "      <td>kayla mueller isis carl mueller donald trump</td>\n",
       "      <td>0</td>\n",
       "    </tr>\n",
       "    <tr>\n",
       "      <th>4</th>\n",
       "      <td>FANTASTIC! TRUMPS 7 POINT PLAN To Reform Healt...</td>\n",
       "      <td>Email HEALTHCARE REFORM TO MAKE AMERICA GREAT ...</td>\n",
       "      <td>bias</td>\n",
       "      <td>notokes</td>\n",
       "      <td>house senate obamacare obamacare democrats oba...</td>\n",
       "      <td>0</td>\n",
       "    </tr>\n",
       "  </tbody>\n",
       "</table>\n",
       "</div>"
      ],
      "text/plain": [
       "                                               title  \\\n",
       "0  Muslims BUSTED They Stole Millions In Govt Ben...   \n",
       "1  Re Why Did Attorney General Loretta Lynch Plea...   \n",
       "2  BREAKING Weiner Cooperating With FBI On Hillar...   \n",
       "3  PIN DROP SPEECH BY FATHER OF DAUGHTER Kidnappe...   \n",
       "4  FANTASTIC! TRUMPS 7 POINT PLAN To Reform Healt...   \n",
       "\n",
       "                                                text  type  \\\n",
       "0  Print They should pay all the back all the mon...  bias   \n",
       "1  Why Did Attorney General Loretta Lynch Plead T...  bias   \n",
       "2  Red State Fox News Sunday reported this mornin...  bias   \n",
       "3  Email Kayla Mueller was a prisoner and torture...  bias   \n",
       "4  Email HEALTHCARE REFORM TO MAKE AMERICA GREAT ...  bias   \n",
       "\n",
       "                       tokenized_headline  \\\n",
       "0                                 muslims   \n",
       "1                           loretta lynch   \n",
       "2  weiner fbi hillary email investigation   \n",
       "3                         donald j. trump   \n",
       "4                                 notokes   \n",
       "\n",
       "                                   tokenized_content  valid_score  \n",
       "0                                            somalis            0  \n",
       "1  loretta lynch barracuda brigade iran loretta l...            0  \n",
       "2  red state fox news anthony weiner fbi hillary ...            0  \n",
       "3       kayla mueller isis carl mueller donald trump            0  \n",
       "4  house senate obamacare obamacare democrats oba...            0  "
      ]
     },
     "execution_count": 29,
     "metadata": {},
     "output_type": "execute_result"
    }
   ],
   "source": [
    "final_test = pd.read_csv('/Users/briankalinowski/Desktop/Data/news_content_final.csv')\n",
    "final_test.head()"
   ]
  },
  {
   "cell_type": "code",
   "execution_count": null,
   "metadata": {},
   "outputs": [],
   "source": []
  },
  {
   "cell_type": "code",
   "execution_count": null,
   "metadata": {},
   "outputs": [],
   "source": []
  },
  {
   "cell_type": "code",
   "execution_count": 26,
   "metadata": {},
   "outputs": [],
   "source": [
    "real_news_raw = pd.read_csv('/Users/briankalinowski/Desktop/Data/General_News/all_the_news.csv')"
   ]
  },
  {
   "cell_type": "code",
   "execution_count": 27,
   "metadata": {},
   "outputs": [
    {
     "data": {
      "text/html": [
       "<div>\n",
       "<style scoped>\n",
       "    .dataframe tbody tr th:only-of-type {\n",
       "        vertical-align: middle;\n",
       "    }\n",
       "\n",
       "    .dataframe tbody tr th {\n",
       "        vertical-align: top;\n",
       "    }\n",
       "\n",
       "    .dataframe thead th {\n",
       "        text-align: right;\n",
       "    }\n",
       "</style>\n",
       "<table border=\"1\" class=\"dataframe\">\n",
       "  <thead>\n",
       "    <tr style=\"text-align: right;\">\n",
       "      <th></th>\n",
       "      <th>title</th>\n",
       "      <th>text</th>\n",
       "      <th>type</th>\n",
       "    </tr>\n",
       "  </thead>\n",
       "  <tbody>\n",
       "    <tr>\n",
       "      <th>0</th>\n",
       "      <td>House Republicans Fret About Winning Their Hea...</td>\n",
       "      <td>WASHINGTON  —   Congressional Republicans have...</td>\n",
       "      <td>New York Times</td>\n",
       "    </tr>\n",
       "    <tr>\n",
       "      <th>1</th>\n",
       "      <td>Rift Between Officers and Residents as Killing...</td>\n",
       "      <td>After the bullet shells get counted, the blood...</td>\n",
       "      <td>New York Times</td>\n",
       "    </tr>\n",
       "    <tr>\n",
       "      <th>2</th>\n",
       "      <td>Tyrus Wong, ‘Bambi’ Artist Thwarted by Racial ...</td>\n",
       "      <td>When Walt Disney’s “Bambi” opened in 1942, cri...</td>\n",
       "      <td>New York Times</td>\n",
       "    </tr>\n",
       "    <tr>\n",
       "      <th>3</th>\n",
       "      <td>Among Deaths in 2016, a Heavy Toll in Pop Musi...</td>\n",
       "      <td>Death may be the great equalizer, but it isn’t...</td>\n",
       "      <td>New York Times</td>\n",
       "    </tr>\n",
       "    <tr>\n",
       "      <th>4</th>\n",
       "      <td>Kim Jong-un Says North Korea Is Preparing to T...</td>\n",
       "      <td>SEOUL, South Korea  —   North Korea’s leader, ...</td>\n",
       "      <td>New York Times</td>\n",
       "    </tr>\n",
       "  </tbody>\n",
       "</table>\n",
       "</div>"
      ],
      "text/plain": [
       "                                               title  \\\n",
       "0  House Republicans Fret About Winning Their Hea...   \n",
       "1  Rift Between Officers and Residents as Killing...   \n",
       "2  Tyrus Wong, ‘Bambi’ Artist Thwarted by Racial ...   \n",
       "3  Among Deaths in 2016, a Heavy Toll in Pop Musi...   \n",
       "4  Kim Jong-un Says North Korea Is Preparing to T...   \n",
       "\n",
       "                                                text            type  \n",
       "0  WASHINGTON  —   Congressional Republicans have...  New York Times  \n",
       "1  After the bullet shells get counted, the blood...  New York Times  \n",
       "2  When Walt Disney’s “Bambi” opened in 1942, cri...  New York Times  \n",
       "3  Death may be the great equalizer, but it isn’t...  New York Times  \n",
       "4  SEOUL, South Korea  —   North Korea’s leader, ...  New York Times  "
      ]
     },
     "execution_count": 27,
     "metadata": {},
     "output_type": "execute_result"
    }
   ],
   "source": [
    "real_news_content = real_news_raw[['title', 'content', 'publication']]\n",
    "\n",
    "real_news_content = real_news_content.rename(columns={'content': 'text', 'publication': 'type'})\n",
    "\n",
    "real_news_content = real_news_content.dropna()\n",
    "\n",
    "real_news_content.head()"
   ]
  },
  {
   "cell_type": "code",
   "execution_count": 28,
   "metadata": {},
   "outputs": [
    {
     "data": {
      "text/plain": [
       "Breitbart              23781\n",
       "New York Post          17493\n",
       "NPR                    11992\n",
       "CNN                    11488\n",
       "Washington Post        11114\n",
       "Reuters                10709\n",
       "Guardian                8681\n",
       "New York Times          7803\n",
       "Atlantic                7179\n",
       "Business Insider        6757\n",
       "National Review         6203\n",
       "Talking Points Memo     5213\n",
       "Vox                     4947\n",
       "Buzzfeed News           4854\n",
       "Fox News                4354\n",
       "Name: type, dtype: int64"
      ]
     },
     "execution_count": 28,
     "metadata": {},
     "output_type": "execute_result"
    }
   ],
   "source": [
    "real_news_content.type.value_counts()"
   ]
  },
  {
   "cell_type": "code",
   "execution_count": 29,
   "metadata": {},
   "outputs": [
    {
     "data": {
      "text/plain": [
       "title    0\n",
       "text     0\n",
       "type     0\n",
       "dtype: int64"
      ]
     },
     "execution_count": 29,
     "metadata": {},
     "output_type": "execute_result"
    }
   ],
   "source": [
    "real_news_content.isnull().sum()"
   ]
  },
  {
   "cell_type": "code",
   "execution_count": null,
   "metadata": {},
   "outputs": [],
   "source": [
    "# news_content['content_length'] = news_content.content.str.len()"
   ]
  },
  {
   "cell_type": "code",
   "execution_count": 31,
   "metadata": {},
   "outputs": [],
   "source": [
    "word_length = real_news_content.text.str.replace('[^0-9a-zA-Z .!?,]', '', regex=True).str.split(' ').str.len()"
   ]
  },
  {
   "cell_type": "code",
   "execution_count": 34,
   "metadata": {},
   "outputs": [],
   "source": [
    "real_news_content['word_len'] = word_length"
   ]
  },
  {
   "cell_type": "code",
   "execution_count": 35,
   "metadata": {},
   "outputs": [
    {
     "data": {
      "text/html": [
       "<div>\n",
       "<style scoped>\n",
       "    .dataframe tbody tr th:only-of-type {\n",
       "        vertical-align: middle;\n",
       "    }\n",
       "\n",
       "    .dataframe tbody tr th {\n",
       "        vertical-align: top;\n",
       "    }\n",
       "\n",
       "    .dataframe thead th {\n",
       "        text-align: right;\n",
       "    }\n",
       "</style>\n",
       "<table border=\"1\" class=\"dataframe\">\n",
       "  <thead>\n",
       "    <tr style=\"text-align: right;\">\n",
       "      <th></th>\n",
       "      <th>title</th>\n",
       "      <th>text</th>\n",
       "      <th>type</th>\n",
       "      <th>word_len</th>\n",
       "    </tr>\n",
       "  </thead>\n",
       "  <tbody>\n",
       "    <tr>\n",
       "      <th>0</th>\n",
       "      <td>House Republicans Fret About Winning Their Hea...</td>\n",
       "      <td>WASHINGTON  —   Congressional Republicans have...</td>\n",
       "      <td>New York Times</td>\n",
       "      <td>920</td>\n",
       "    </tr>\n",
       "    <tr>\n",
       "      <th>1</th>\n",
       "      <td>Rift Between Officers and Residents as Killing...</td>\n",
       "      <td>After the bullet shells get counted, the blood...</td>\n",
       "      <td>New York Times</td>\n",
       "      <td>4905</td>\n",
       "    </tr>\n",
       "    <tr>\n",
       "      <th>2</th>\n",
       "      <td>Tyrus Wong, ‘Bambi’ Artist Thwarted by Racial ...</td>\n",
       "      <td>When Walt Disney’s “Bambi” opened in 1942, cri...</td>\n",
       "      <td>New York Times</td>\n",
       "      <td>2521</td>\n",
       "    </tr>\n",
       "    <tr>\n",
       "      <th>3</th>\n",
       "      <td>Among Deaths in 2016, a Heavy Toll in Pop Musi...</td>\n",
       "      <td>Death may be the great equalizer, but it isn’t...</td>\n",
       "      <td>New York Times</td>\n",
       "      <td>2212</td>\n",
       "    </tr>\n",
       "    <tr>\n",
       "      <th>4</th>\n",
       "      <td>Kim Jong-un Says North Korea Is Preparing to T...</td>\n",
       "      <td>SEOUL, South Korea  —   North Korea’s leader, ...</td>\n",
       "      <td>New York Times</td>\n",
       "      <td>741</td>\n",
       "    </tr>\n",
       "  </tbody>\n",
       "</table>\n",
       "</div>"
      ],
      "text/plain": [
       "                                               title  \\\n",
       "0  House Republicans Fret About Winning Their Hea...   \n",
       "1  Rift Between Officers and Residents as Killing...   \n",
       "2  Tyrus Wong, ‘Bambi’ Artist Thwarted by Racial ...   \n",
       "3  Among Deaths in 2016, a Heavy Toll in Pop Musi...   \n",
       "4  Kim Jong-un Says North Korea Is Preparing to T...   \n",
       "\n",
       "                                                text            type  word_len  \n",
       "0  WASHINGTON  —   Congressional Republicans have...  New York Times       920  \n",
       "1  After the bullet shells get counted, the blood...  New York Times      4905  \n",
       "2  When Walt Disney’s “Bambi” opened in 1942, cri...  New York Times      2521  \n",
       "3  Death may be the great equalizer, but it isn’t...  New York Times      2212  \n",
       "4  SEOUL, South Korea  —   North Korea’s leader, ...  New York Times       741  "
      ]
     },
     "execution_count": 35,
     "metadata": {},
     "output_type": "execute_result"
    }
   ],
   "source": [
    "real_news_content.head()"
   ]
  },
  {
   "cell_type": "code",
   "execution_count": 69,
   "metadata": {},
   "outputs": [
    {
     "data": {
      "text/html": [
       "<div>\n",
       "<style scoped>\n",
       "    .dataframe tbody tr th:only-of-type {\n",
       "        vertical-align: middle;\n",
       "    }\n",
       "\n",
       "    .dataframe tbody tr th {\n",
       "        vertical-align: top;\n",
       "    }\n",
       "\n",
       "    .dataframe thead th {\n",
       "        text-align: right;\n",
       "    }\n",
       "</style>\n",
       "<table border=\"1\" class=\"dataframe\">\n",
       "  <thead>\n",
       "    <tr style=\"text-align: right;\">\n",
       "      <th></th>\n",
       "      <th>title</th>\n",
       "      <th>text</th>\n",
       "      <th>type</th>\n",
       "      <th>word_len</th>\n",
       "    </tr>\n",
       "  </thead>\n",
       "  <tbody>\n",
       "    <tr>\n",
       "      <th>2460</th>\n",
       "      <td>Yellen Signals Shift From Stimulating Economy ...</td>\n",
       "      <td>Janet L. Yellen, the Federal Reserve chairwoma...</td>\n",
       "      <td>New York Times</td>\n",
       "      <td>780</td>\n",
       "    </tr>\n",
       "    <tr>\n",
       "      <th>2463</th>\n",
       "      <td>Marvel Will Discipline Artist Who Sneaked Poli...</td>\n",
       "      <td>The   have battled evil mutants, killer robots...</td>\n",
       "      <td>New York Times</td>\n",
       "      <td>780</td>\n",
       "    </tr>\n",
       "    <tr>\n",
       "      <th>3253</th>\n",
       "      <td>Dallas, Republican Party, Britain: Your Monday...</td>\n",
       "      <td>(Want to get this briefing by email? Here’s th...</td>\n",
       "      <td>New York Times</td>\n",
       "      <td>780</td>\n",
       "    </tr>\n",
       "    <tr>\n",
       "      <th>4501</th>\n",
       "      <td>How to break up with a friend - The New York T...</td>\n",
       "      <td>This article is part of a series aimed at help...</td>\n",
       "      <td>New York Times</td>\n",
       "      <td>780</td>\n",
       "    </tr>\n",
       "    <tr>\n",
       "      <th>7764</th>\n",
       "      <td>From Putin’s Hands: A Russian Passport for Ste...</td>\n",
       "      <td>Steven Seagal, the American actor whose career...</td>\n",
       "      <td>New York Times</td>\n",
       "      <td>780</td>\n",
       "    </tr>\n",
       "    <tr>\n",
       "      <th>...</th>\n",
       "      <td>...</td>\n",
       "      <td>...</td>\n",
       "      <td>...</td>\n",
       "      <td>...</td>\n",
       "    </tr>\n",
       "    <tr>\n",
       "      <th>6934</th>\n",
       "      <td>Montreal’s Pit Bull Ban Is Suspended Until Wed...</td>\n",
       "      <td>A Canadian judge on Monday temporarily suspend...</td>\n",
       "      <td>New York Times</td>\n",
       "      <td>932</td>\n",
       "    </tr>\n",
       "    <tr>\n",
       "      <th>1965</th>\n",
       "      <td>Of Horse v. Duck, Mutton Busting and Other Con...</td>\n",
       "      <td>WASHINGTON  —   In the seventh hour of questio...</td>\n",
       "      <td>New York Times</td>\n",
       "      <td>933</td>\n",
       "    </tr>\n",
       "    <tr>\n",
       "      <th>2142</th>\n",
       "      <td>Brexit, Chris Christie, Ivanka Trump: Your Wed...</td>\n",
       "      <td>(Want to get this briefing by email? Here’s th...</td>\n",
       "      <td>New York Times</td>\n",
       "      <td>933</td>\n",
       "    </tr>\n",
       "    <tr>\n",
       "      <th>4461</th>\n",
       "      <td>Want Co-Workers to Vote Your Way? Then Stop Pe...</td>\n",
       "      <td>Every four years, I notice a dramatic increase...</td>\n",
       "      <td>New York Times</td>\n",
       "      <td>933</td>\n",
       "    </tr>\n",
       "    <tr>\n",
       "      <th>5007</th>\n",
       "      <td>In Montreal, an Ungainly and Unloved Christmas...</td>\n",
       "      <td>MONTREAL  —   The idea was to celebrate Montre...</td>\n",
       "      <td>New York Times</td>\n",
       "      <td>933</td>\n",
       "    </tr>\n",
       "  </tbody>\n",
       "</table>\n",
       "<p>1000 rows × 4 columns</p>\n",
       "</div>"
      ],
      "text/plain": [
       "                                                  title  \\\n",
       "2460  Yellen Signals Shift From Stimulating Economy ...   \n",
       "2463  Marvel Will Discipline Artist Who Sneaked Poli...   \n",
       "3253  Dallas, Republican Party, Britain: Your Monday...   \n",
       "4501  How to break up with a friend - The New York T...   \n",
       "7764  From Putin’s Hands: A Russian Passport for Ste...   \n",
       "...                                                 ...   \n",
       "6934  Montreal’s Pit Bull Ban Is Suspended Until Wed...   \n",
       "1965  Of Horse v. Duck, Mutton Busting and Other Con...   \n",
       "2142  Brexit, Chris Christie, Ivanka Trump: Your Wed...   \n",
       "4461  Want Co-Workers to Vote Your Way? Then Stop Pe...   \n",
       "5007  In Montreal, an Ungainly and Unloved Christmas...   \n",
       "\n",
       "                                                   text            type  \\\n",
       "2460  Janet L. Yellen, the Federal Reserve chairwoma...  New York Times   \n",
       "2463  The   have battled evil mutants, killer robots...  New York Times   \n",
       "3253  (Want to get this briefing by email? Here’s th...  New York Times   \n",
       "4501  This article is part of a series aimed at help...  New York Times   \n",
       "7764  Steven Seagal, the American actor whose career...  New York Times   \n",
       "...                                                 ...             ...   \n",
       "6934  A Canadian judge on Monday temporarily suspend...  New York Times   \n",
       "1965  WASHINGTON  —   In the seventh hour of questio...  New York Times   \n",
       "2142  (Want to get this briefing by email? Here’s th...  New York Times   \n",
       "4461  Every four years, I notice a dramatic increase...  New York Times   \n",
       "5007  MONTREAL  —   The idea was to celebrate Montre...  New York Times   \n",
       "\n",
       "      word_len  \n",
       "2460       780  \n",
       "2463       780  \n",
       "3253       780  \n",
       "4501       780  \n",
       "7764       780  \n",
       "...        ...  \n",
       "6934       932  \n",
       "1965       933  \n",
       "2142       933  \n",
       "4461       933  \n",
       "5007       933  \n",
       "\n",
       "[1000 rows x 4 columns]"
      ]
     },
     "execution_count": 69,
     "metadata": {},
     "output_type": "execute_result"
    }
   ],
   "source": [
    "lower_len = word_length.mean()\n",
    "\n",
    "upper_len = word_length.mean() + (word_length.std() * 3)\n",
    "\n",
    "\n",
    "\n",
    "real_news_content[(real_news_content.type == 'New York Times') & \n",
    "                  (real_news_content.word_len >= lower_len) &\n",
    "                  (real_news_content.word_len < upper_len)].nsmallest(1000, 'word_len')"
   ]
  },
  {
   "cell_type": "code",
   "execution_count": 107,
   "metadata": {},
   "outputs": [],
   "source": [
    "# All 15 of our publications\n",
    "pubs_list = list(real_news_content.type.unique())\n",
    "\n",
    "# average word length\n",
    "lower_len = int(round(word_length.mean()))\n",
    "\n",
    "# avg word length + 3*std \n",
    "upper_len = int(round(word_length.mean() + (word_length.std() * 3)))\n",
    "\n",
    "\n",
    "real_news_pub_subset = pd.DataFrame()\n",
    "for publication in pubs_list:   \n",
    "    # get 1000 articles within the word length range\n",
    "    pub_df = real_news_content[(real_news_content.type == publication) & \n",
    "                               (real_news_content.word_len >= lower_len) &\n",
    "                               (real_news_content.word_len <= upper_len)].nsmallest(1000, 'word_len')\n",
    "    \n",
    "    # append to 1 df \n",
    "    real_news_pub_subset = real_news_pub_subset.append(pub_df, ignore_index=True)    "
   ]
  },
  {
   "cell_type": "code",
   "execution_count": 108,
   "metadata": {},
   "outputs": [
    {
     "data": {
      "text/html": [
       "<div>\n",
       "<style scoped>\n",
       "    .dataframe tbody tr th:only-of-type {\n",
       "        vertical-align: middle;\n",
       "    }\n",
       "\n",
       "    .dataframe tbody tr th {\n",
       "        vertical-align: top;\n",
       "    }\n",
       "\n",
       "    .dataframe thead th {\n",
       "        text-align: right;\n",
       "    }\n",
       "</style>\n",
       "<table border=\"1\" class=\"dataframe\">\n",
       "  <thead>\n",
       "    <tr style=\"text-align: right;\">\n",
       "      <th></th>\n",
       "      <th>title</th>\n",
       "      <th>text</th>\n",
       "      <th>type</th>\n",
       "      <th>word_len</th>\n",
       "    </tr>\n",
       "  </thead>\n",
       "  <tbody>\n",
       "    <tr>\n",
       "      <th>0</th>\n",
       "      <td>New Guideline Will Allow First-Year Doctors to...</td>\n",
       "      <td>doctors in training will now be permitted to...</td>\n",
       "      <td>New York Times</td>\n",
       "      <td>779</td>\n",
       "    </tr>\n",
       "    <tr>\n",
       "      <th>1</th>\n",
       "      <td>Retesting of Doping Samples Could Bar Dozens F...</td>\n",
       "      <td>Dozens of athletes expecting to compete at the...</td>\n",
       "      <td>New York Times</td>\n",
       "      <td>779</td>\n",
       "    </tr>\n",
       "    <tr>\n",
       "      <th>2</th>\n",
       "      <td>Ali’s Least Memorable Fight - The New York Times</td>\n",
       "      <td>Muhammad Ali, who died Friday, was part of som...</td>\n",
       "      <td>New York Times</td>\n",
       "      <td>779</td>\n",
       "    </tr>\n",
       "    <tr>\n",
       "      <th>3</th>\n",
       "      <td>Protests Erupt in Charlotte After Police Kill ...</td>\n",
       "      <td>About 16 police officers in Charlotte, N. C. w...</td>\n",
       "      <td>New York Times</td>\n",
       "      <td>779</td>\n",
       "    </tr>\n",
       "    <tr>\n",
       "      <th>4</th>\n",
       "      <td>Amy Adams on Eyes That Deceive - The New York ...</td>\n",
       "      <td>Amy Adams has received five Oscar nominations ...</td>\n",
       "      <td>New York Times</td>\n",
       "      <td>779</td>\n",
       "    </tr>\n",
       "  </tbody>\n",
       "</table>\n",
       "</div>"
      ],
      "text/plain": [
       "                                               title  \\\n",
       "0  New Guideline Will Allow First-Year Doctors to...   \n",
       "1  Retesting of Doping Samples Could Bar Dozens F...   \n",
       "2   Ali’s Least Memorable Fight - The New York Times   \n",
       "3  Protests Erupt in Charlotte After Police Kill ...   \n",
       "4  Amy Adams on Eyes That Deceive - The New York ...   \n",
       "\n",
       "                                                text            type  word_len  \n",
       "0    doctors in training will now be permitted to...  New York Times       779  \n",
       "1  Dozens of athletes expecting to compete at the...  New York Times       779  \n",
       "2  Muhammad Ali, who died Friday, was part of som...  New York Times       779  \n",
       "3  About 16 police officers in Charlotte, N. C. w...  New York Times       779  \n",
       "4  Amy Adams has received five Oscar nominations ...  New York Times       779  "
      ]
     },
     "execution_count": 108,
     "metadata": {},
     "output_type": "execute_result"
    }
   ],
   "source": [
    "real_news_pub_subset.head()"
   ]
  },
  {
   "cell_type": "code",
   "execution_count": 109,
   "metadata": {},
   "outputs": [
    {
     "data": {
      "text/plain": [
       "(14484, 4)"
      ]
     },
     "execution_count": 109,
     "metadata": {},
     "output_type": "execute_result"
    }
   ],
   "source": [
    "real_news_pub_subset.shape"
   ]
  },
  {
   "cell_type": "code",
   "execution_count": 110,
   "metadata": {},
   "outputs": [
    {
     "data": {
      "text/plain": [
       "Breitbart              1000\n",
       "Atlantic               1000\n",
       "Washington Post        1000\n",
       "Buzzfeed News          1000\n",
       "Business Insider       1000\n",
       "National Review        1000\n",
       "New York Post          1000\n",
       "NPR                    1000\n",
       "CNN                    1000\n",
       "New York Times         1000\n",
       "Vox                    1000\n",
       "Guardian               1000\n",
       "Reuters                1000\n",
       "Fox News                907\n",
       "Talking Points Memo     577\n",
       "Name: type, dtype: int64"
      ]
     },
     "execution_count": 110,
     "metadata": {},
     "output_type": "execute_result"
    }
   ],
   "source": [
    "real_news_pub_subset.type.value_counts()"
   ]
  },
  {
   "cell_type": "code",
   "execution_count": 115,
   "metadata": {},
   "outputs": [],
   "source": [
    "real_news_final = real_news_pub_subset[['title', 'text', 'type']]"
   ]
  },
  {
   "cell_type": "code",
   "execution_count": 119,
   "metadata": {},
   "outputs": [
    {
     "data": {
      "text/html": [
       "<div>\n",
       "<style scoped>\n",
       "    .dataframe tbody tr th:only-of-type {\n",
       "        vertical-align: middle;\n",
       "    }\n",
       "\n",
       "    .dataframe tbody tr th {\n",
       "        vertical-align: top;\n",
       "    }\n",
       "\n",
       "    .dataframe thead th {\n",
       "        text-align: right;\n",
       "    }\n",
       "</style>\n",
       "<table border=\"1\" class=\"dataframe\">\n",
       "  <thead>\n",
       "    <tr style=\"text-align: right;\">\n",
       "      <th></th>\n",
       "      <th>title</th>\n",
       "      <th>text</th>\n",
       "      <th>type</th>\n",
       "    </tr>\n",
       "  </thead>\n",
       "  <tbody>\n",
       "    <tr>\n",
       "      <th>0</th>\n",
       "      <td>New Guideline Will Allow First-Year Doctors to...</td>\n",
       "      <td>doctors in training will now be permitted to...</td>\n",
       "      <td>New York Times</td>\n",
       "    </tr>\n",
       "    <tr>\n",
       "      <th>1</th>\n",
       "      <td>Retesting of Doping Samples Could Bar Dozens F...</td>\n",
       "      <td>Dozens of athletes expecting to compete at the...</td>\n",
       "      <td>New York Times</td>\n",
       "    </tr>\n",
       "    <tr>\n",
       "      <th>2</th>\n",
       "      <td>Ali’s Least Memorable Fight - The New York Times</td>\n",
       "      <td>Muhammad Ali, who died Friday, was part of som...</td>\n",
       "      <td>New York Times</td>\n",
       "    </tr>\n",
       "    <tr>\n",
       "      <th>3</th>\n",
       "      <td>Protests Erupt in Charlotte After Police Kill ...</td>\n",
       "      <td>About 16 police officers in Charlotte, N. C. w...</td>\n",
       "      <td>New York Times</td>\n",
       "    </tr>\n",
       "    <tr>\n",
       "      <th>4</th>\n",
       "      <td>Amy Adams on Eyes That Deceive - The New York ...</td>\n",
       "      <td>Amy Adams has received five Oscar nominations ...</td>\n",
       "      <td>New York Times</td>\n",
       "    </tr>\n",
       "  </tbody>\n",
       "</table>\n",
       "</div>"
      ],
      "text/plain": [
       "                                               title  \\\n",
       "0  New Guideline Will Allow First-Year Doctors to...   \n",
       "1  Retesting of Doping Samples Could Bar Dozens F...   \n",
       "2   Ali’s Least Memorable Fight - The New York Times   \n",
       "3  Protests Erupt in Charlotte After Police Kill ...   \n",
       "4  Amy Adams on Eyes That Deceive - The New York ...   \n",
       "\n",
       "                                                text            type  \n",
       "0    doctors in training will now be permitted to...  New York Times  \n",
       "1  Dozens of athletes expecting to compete at the...  New York Times  \n",
       "2  Muhammad Ali, who died Friday, was part of som...  New York Times  \n",
       "3  About 16 police officers in Charlotte, N. C. w...  New York Times  \n",
       "4  Amy Adams has received five Oscar nominations ...  New York Times  "
      ]
     },
     "execution_count": 119,
     "metadata": {},
     "output_type": "execute_result"
    }
   ],
   "source": [
    "real_news_final.head()"
   ]
  },
  {
   "cell_type": "code",
   "execution_count": 120,
   "metadata": {},
   "outputs": [],
   "source": [
    "save_path = '/Users/briankalinowski/Desktop/Data/General_News/real_news.csv'\n",
    "real_news_final.to_csv(path_or_buf=save_path, header=True, index=None)"
   ]
  },
  {
   "cell_type": "code",
   "execution_count": 121,
   "metadata": {},
   "outputs": [
    {
     "data": {
      "text/html": [
       "<div>\n",
       "<style scoped>\n",
       "    .dataframe tbody tr th:only-of-type {\n",
       "        vertical-align: middle;\n",
       "    }\n",
       "\n",
       "    .dataframe tbody tr th {\n",
       "        vertical-align: top;\n",
       "    }\n",
       "\n",
       "    .dataframe thead th {\n",
       "        text-align: right;\n",
       "    }\n",
       "</style>\n",
       "<table border=\"1\" class=\"dataframe\">\n",
       "  <thead>\n",
       "    <tr style=\"text-align: right;\">\n",
       "      <th></th>\n",
       "      <th>title</th>\n",
       "      <th>text</th>\n",
       "      <th>type</th>\n",
       "    </tr>\n",
       "  </thead>\n",
       "  <tbody>\n",
       "    <tr>\n",
       "      <th>0</th>\n",
       "      <td>New Guideline Will Allow First-Year Doctors to...</td>\n",
       "      <td>doctors in training will now be permitted to...</td>\n",
       "      <td>New York Times</td>\n",
       "    </tr>\n",
       "    <tr>\n",
       "      <th>1</th>\n",
       "      <td>Retesting of Doping Samples Could Bar Dozens F...</td>\n",
       "      <td>Dozens of athletes expecting to compete at the...</td>\n",
       "      <td>New York Times</td>\n",
       "    </tr>\n",
       "    <tr>\n",
       "      <th>2</th>\n",
       "      <td>Ali’s Least Memorable Fight - The New York Times</td>\n",
       "      <td>Muhammad Ali, who died Friday, was part of som...</td>\n",
       "      <td>New York Times</td>\n",
       "    </tr>\n",
       "    <tr>\n",
       "      <th>3</th>\n",
       "      <td>Protests Erupt in Charlotte After Police Kill ...</td>\n",
       "      <td>About 16 police officers in Charlotte, N. C. w...</td>\n",
       "      <td>New York Times</td>\n",
       "    </tr>\n",
       "    <tr>\n",
       "      <th>4</th>\n",
       "      <td>Amy Adams on Eyes That Deceive - The New York ...</td>\n",
       "      <td>Amy Adams has received five Oscar nominations ...</td>\n",
       "      <td>New York Times</td>\n",
       "    </tr>\n",
       "  </tbody>\n",
       "</table>\n",
       "</div>"
      ],
      "text/plain": [
       "                                               title  \\\n",
       "0  New Guideline Will Allow First-Year Doctors to...   \n",
       "1  Retesting of Doping Samples Could Bar Dozens F...   \n",
       "2   Ali’s Least Memorable Fight - The New York Times   \n",
       "3  Protests Erupt in Charlotte After Police Kill ...   \n",
       "4  Amy Adams on Eyes That Deceive - The New York ...   \n",
       "\n",
       "                                                text            type  \n",
       "0    doctors in training will now be permitted to...  New York Times  \n",
       "1  Dozens of athletes expecting to compete at the...  New York Times  \n",
       "2  Muhammad Ali, who died Friday, was part of som...  New York Times  \n",
       "3  About 16 police officers in Charlotte, N. C. w...  New York Times  \n",
       "4  Amy Adams has received five Oscar nominations ...  New York Times  "
      ]
     },
     "execution_count": 121,
     "metadata": {},
     "output_type": "execute_result"
    }
   ],
   "source": [
    "test = pd.read_csv('/Users/briankalinowski/Desktop/Data/General_News/real_news.csv')\n",
    "test.head()"
   ]
  },
  {
   "cell_type": "code",
   "execution_count": null,
   "metadata": {},
   "outputs": [],
   "source": []
  }
 ],
 "metadata": {
  "kernelspec": {
   "display_name": "Python 3",
   "language": "python",
   "name": "python3"
  },
  "language_info": {
   "codemirror_mode": {
    "name": "ipython",
    "version": 3
   },
   "file_extension": ".py",
   "mimetype": "text/x-python",
   "name": "python",
   "nbconvert_exporter": "python",
   "pygments_lexer": "ipython3",
   "version": "3.7.5"
  }
 },
 "nbformat": 4,
 "nbformat_minor": 2
}
