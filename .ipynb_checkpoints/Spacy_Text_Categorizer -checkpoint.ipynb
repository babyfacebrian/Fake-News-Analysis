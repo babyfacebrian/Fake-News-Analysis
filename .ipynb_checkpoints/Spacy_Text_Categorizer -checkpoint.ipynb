{
 "cells": [
  {
   "cell_type": "code",
   "execution_count": 1,
   "metadata": {},
   "outputs": [],
   "source": [
    "from typing import *\n",
    "import pandas as pd\n",
    "import numpy as np\n",
    "import spacy\n",
    "from spacy.util import minibatch, compounding\n",
    "from sklearn.model_selection import train_test_split"
   ]
  },
  {
   "cell_type": "code",
   "execution_count": 2,
   "metadata": {},
   "outputs": [
    {
     "name": "stdout",
     "output_type": "stream",
     "text": [
      "(26227, 6)\n"
     ]
    },
    {
     "data": {
      "text/html": [
       "<div>\n",
       "<style scoped>\n",
       "    .dataframe tbody tr th:only-of-type {\n",
       "        vertical-align: middle;\n",
       "    }\n",
       "\n",
       "    .dataframe tbody tr th {\n",
       "        vertical-align: top;\n",
       "    }\n",
       "\n",
       "    .dataframe thead th {\n",
       "        text-align: right;\n",
       "    }\n",
       "</style>\n",
       "<table border=\"1\" class=\"dataframe\">\n",
       "  <thead>\n",
       "    <tr style=\"text-align: right;\">\n",
       "      <th></th>\n",
       "      <th>title</th>\n",
       "      <th>text</th>\n",
       "      <th>tokenized_headline</th>\n",
       "      <th>tokenized_content</th>\n",
       "      <th>type</th>\n",
       "      <th>valid_score</th>\n",
       "    </tr>\n",
       "  </thead>\n",
       "  <tbody>\n",
       "    <tr>\n",
       "      <th>0</th>\n",
       "      <td>Muslims BUSTED They Stole Millions In Govt Ben...</td>\n",
       "      <td>Print They should pay all the back all the mon...</td>\n",
       "      <td>muslims bust steal millions in govt benefit</td>\n",
       "      <td>print should pay all the back all the money pl...</td>\n",
       "      <td>bias</td>\n",
       "      <td>0</td>\n",
       "    </tr>\n",
       "    <tr>\n",
       "      <th>1</th>\n",
       "      <td>Re Why Did Attorney General Loretta Lynch Plea...</td>\n",
       "      <td>Why Did Attorney General Loretta Lynch Plead T...</td>\n",
       "      <td>re why do attorney general loretta lynch plead...</td>\n",
       "      <td>why do attorney general loretta lynch plead th...</td>\n",
       "      <td>bias</td>\n",
       "      <td>0</td>\n",
       "    </tr>\n",
       "    <tr>\n",
       "      <th>2</th>\n",
       "      <td>BREAKING Weiner Cooperating With FBI On Hillar...</td>\n",
       "      <td>Red State Fox News Sunday reported this mornin...</td>\n",
       "      <td>break weiner cooperate with fbi on hillary ema...</td>\n",
       "      <td>red state fox news sunday report this morning ...</td>\n",
       "      <td>bias</td>\n",
       "      <td>0</td>\n",
       "    </tr>\n",
       "    <tr>\n",
       "      <th>3</th>\n",
       "      <td>PIN DROP SPEECH BY FATHER OF DAUGHTER Kidnappe...</td>\n",
       "      <td>Email Kayla Mueller was a prisoner and torture...</td>\n",
       "      <td>pin drop speech by father of daughter kidnappe...</td>\n",
       "      <td>email kayla mueller be a prisoner and torture ...</td>\n",
       "      <td>bias</td>\n",
       "      <td>0</td>\n",
       "    </tr>\n",
       "    <tr>\n",
       "      <th>4</th>\n",
       "      <td>FANTASTIC! TRUMPS 7 POINT PLAN To Reform Healt...</td>\n",
       "      <td>Email HEALTHCARE REFORM TO MAKE AMERICA GREAT ...</td>\n",
       "      <td>fantastic trump 7 point plan to reform healthc...</td>\n",
       "      <td>email healthcare reform to make america great ...</td>\n",
       "      <td>bias</td>\n",
       "      <td>0</td>\n",
       "    </tr>\n",
       "  </tbody>\n",
       "</table>\n",
       "</div>"
      ],
      "text/plain": [
       "                                               title  \\\n",
       "0  Muslims BUSTED They Stole Millions In Govt Ben...   \n",
       "1  Re Why Did Attorney General Loretta Lynch Plea...   \n",
       "2  BREAKING Weiner Cooperating With FBI On Hillar...   \n",
       "3  PIN DROP SPEECH BY FATHER OF DAUGHTER Kidnappe...   \n",
       "4  FANTASTIC! TRUMPS 7 POINT PLAN To Reform Healt...   \n",
       "\n",
       "                                                text  \\\n",
       "0  Print They should pay all the back all the mon...   \n",
       "1  Why Did Attorney General Loretta Lynch Plead T...   \n",
       "2  Red State Fox News Sunday reported this mornin...   \n",
       "3  Email Kayla Mueller was a prisoner and torture...   \n",
       "4  Email HEALTHCARE REFORM TO MAKE AMERICA GREAT ...   \n",
       "\n",
       "                                  tokenized_headline  \\\n",
       "0        muslims bust steal millions in govt benefit   \n",
       "1  re why do attorney general loretta lynch plead...   \n",
       "2  break weiner cooperate with fbi on hillary ema...   \n",
       "3  pin drop speech by father of daughter kidnappe...   \n",
       "4  fantastic trump 7 point plan to reform healthc...   \n",
       "\n",
       "                                   tokenized_content  type  valid_score  \n",
       "0  print should pay all the back all the money pl...  bias            0  \n",
       "1  why do attorney general loretta lynch plead th...  bias            0  \n",
       "2  red state fox news sunday report this morning ...  bias            0  \n",
       "3  email kayla mueller be a prisoner and torture ...  bias            0  \n",
       "4  email healthcare reform to make america great ...  bias            0  "
      ]
     },
     "execution_count": 2,
     "metadata": {},
     "output_type": "execute_result"
    }
   ],
   "source": [
    "news_data = pd.read_csv('/Users/briankalinowski/Desktop/Data/news_content_lemma.csv')\n",
    "print(news_data.shape)\n",
    "news_data.head()"
   ]
  },
  {
   "cell_type": "code",
   "execution_count": 274,
   "metadata": {},
   "outputs": [
    {
     "data": {
      "text/plain": [
       "(262, 6)"
      ]
     },
     "execution_count": 274,
     "metadata": {},
     "output_type": "execute_result"
    }
   ],
   "source": [
    "news_sample = news_data.sample(frac=0.01).reset_index(drop=True)\n",
    "news_sample.shape"
   ]
  },
  {
   "cell_type": "code",
   "execution_count": 276,
   "metadata": {},
   "outputs": [
    {
     "data": {
      "text/plain": [
       "1    133\n",
       "0    129\n",
       "Name: valid_score, dtype: int64"
      ]
     },
     "execution_count": 276,
     "metadata": {},
     "output_type": "execute_result"
    }
   ],
   "source": [
    "news_sample.valid_score.value_counts()"
   ]
  },
  {
   "cell_type": "code",
   "execution_count": 277,
   "metadata": {},
   "outputs": [
    {
     "data": {
      "text/html": [
       "<div>\n",
       "<style scoped>\n",
       "    .dataframe tbody tr th:only-of-type {\n",
       "        vertical-align: middle;\n",
       "    }\n",
       "\n",
       "    .dataframe tbody tr th {\n",
       "        vertical-align: top;\n",
       "    }\n",
       "\n",
       "    .dataframe thead th {\n",
       "        text-align: right;\n",
       "    }\n",
       "</style>\n",
       "<table border=\"1\" class=\"dataframe\">\n",
       "  <thead>\n",
       "    <tr style=\"text-align: right;\">\n",
       "      <th></th>\n",
       "      <th>title</th>\n",
       "      <th>text</th>\n",
       "      <th>tokenized_headline</th>\n",
       "      <th>tokenized_content</th>\n",
       "      <th>type</th>\n",
       "      <th>valid_score</th>\n",
       "    </tr>\n",
       "  </thead>\n",
       "  <tbody>\n",
       "    <tr>\n",
       "      <th>0</th>\n",
       "      <td>US Drone Pilots May Be Illegally Acquiring Tar...</td>\n",
       "      <td>US Drone Pilots May Be Illegally Acquiring Tar...</td>\n",
       "      <td>us drone pilot may be illegally acquire target...</td>\n",
       "      <td>us drone pilot may be illegally acquire target...</td>\n",
       "      <td>bs</td>\n",
       "      <td>0</td>\n",
       "    </tr>\n",
       "    <tr>\n",
       "      <th>1</th>\n",
       "      <td>So That Was Weird</td>\n",
       "      <td>Back in September 2013 we got an email from a ...</td>\n",
       "      <td>so that be weird</td>\n",
       "      <td>back in september 2013 get an email from a tpm...</td>\n",
       "      <td>Talking Points Memo</td>\n",
       "      <td>1</td>\n",
       "    </tr>\n",
       "    <tr>\n",
       "      <th>2</th>\n",
       "      <td>Six weeks to sanity The antiTrump surge is fin...</td>\n",
       "      <td>In May was it only last month? Donald Trumps R...</td>\n",
       "      <td>six week to sanity the antitrump surge be fina...</td>\n",
       "      <td>in may be only last month donald trump republi...</td>\n",
       "      <td>Washington Post</td>\n",
       "      <td>1</td>\n",
       "    </tr>\n",
       "    <tr>\n",
       "      <th>3</th>\n",
       "      <td>The American Experiment in Exile</td>\n",
       "      <td>Sen. John McCains comments at the security con...</td>\n",
       "      <td>the american experiment in exile</td>\n",
       "      <td>sen. john mccains comment at the security conf...</td>\n",
       "      <td>Talking Points Memo</td>\n",
       "      <td>1</td>\n",
       "    </tr>\n",
       "    <tr>\n",
       "      <th>4</th>\n",
       "      <td>Paul Ryan is facing a Republican revolt</td>\n",
       "      <td>One week after the Congress broke with over 40...</td>\n",
       "      <td>paul ryan be face a republican revolt</td>\n",
       "      <td>one week after the congress break with over 40...</td>\n",
       "      <td>Business Insider</td>\n",
       "      <td>1</td>\n",
       "    </tr>\n",
       "  </tbody>\n",
       "</table>\n",
       "</div>"
      ],
      "text/plain": [
       "                                               title  \\\n",
       "0  US Drone Pilots May Be Illegally Acquiring Tar...   \n",
       "1                                  So That Was Weird   \n",
       "2  Six weeks to sanity The antiTrump surge is fin...   \n",
       "3                   The American Experiment in Exile   \n",
       "4            Paul Ryan is facing a Republican revolt   \n",
       "\n",
       "                                                text  \\\n",
       "0  US Drone Pilots May Be Illegally Acquiring Tar...   \n",
       "1  Back in September 2013 we got an email from a ...   \n",
       "2  In May was it only last month? Donald Trumps R...   \n",
       "3  Sen. John McCains comments at the security con...   \n",
       "4  One week after the Congress broke with over 40...   \n",
       "\n",
       "                                  tokenized_headline  \\\n",
       "0  us drone pilot may be illegally acquire target...   \n",
       "1                                   so that be weird   \n",
       "2  six week to sanity the antitrump surge be fina...   \n",
       "3                   the american experiment in exile   \n",
       "4              paul ryan be face a republican revolt   \n",
       "\n",
       "                                   tokenized_content                 type  \\\n",
       "0  us drone pilot may be illegally acquire target...                   bs   \n",
       "1  back in september 2013 get an email from a tpm...  Talking Points Memo   \n",
       "2  in may be only last month donald trump republi...      Washington Post   \n",
       "3  sen. john mccains comment at the security conf...  Talking Points Memo   \n",
       "4  one week after the congress break with over 40...     Business Insider   \n",
       "\n",
       "   valid_score  \n",
       "0            0  \n",
       "1            1  \n",
       "2            1  \n",
       "3            1  \n",
       "4            1  "
      ]
     },
     "execution_count": 277,
     "metadata": {},
     "output_type": "execute_result"
    }
   ],
   "source": [
    "news_sample.head()"
   ]
  },
  {
   "cell_type": "code",
   "execution_count": 278,
   "metadata": {},
   "outputs": [],
   "source": [
    "news_sample.to_csv('/Users/briankalinowski/Desktop/Data/sample_test.csv', header=True, index=None)"
   ]
  },
  {
   "cell_type": "code",
   "execution_count": 281,
   "metadata": {},
   "outputs": [
    {
     "data": {
      "text/plain": [
       "1    133\n",
       "0    129\n",
       "Name: valid_score, dtype: int64"
      ]
     },
     "execution_count": 281,
     "metadata": {},
     "output_type": "execute_result"
    }
   ],
   "source": [
    "test = pd.read_csv('/Users/briankalinowski/Desktop/Data/sample_test.csv')\n",
    "test.valid_score.value_counts()"
   ]
  },
  {
   "cell_type": "code",
   "execution_count": null,
   "metadata": {},
   "outputs": [],
   "source": []
  },
  {
   "cell_type": "code",
   "execution_count": null,
   "metadata": {},
   "outputs": [],
   "source": []
  },
  {
   "cell_type": "code",
   "execution_count": null,
   "metadata": {},
   "outputs": [],
   "source": []
  },
  {
   "cell_type": "code",
   "execution_count": null,
   "metadata": {},
   "outputs": [],
   "source": []
  },
  {
   "cell_type": "code",
   "execution_count": null,
   "metadata": {},
   "outputs": [],
   "source": []
  },
  {
   "cell_type": "code",
   "execution_count": null,
   "metadata": {},
   "outputs": [],
   "source": []
  },
  {
   "cell_type": "markdown",
   "metadata": {},
   "source": [
    "## Proper Train Test Split"
   ]
  },
  {
   "cell_type": "code",
   "execution_count": 3,
   "metadata": {},
   "outputs": [],
   "source": [
    "X_train, X_test, y_train, y_test = train_test_split(news_data.drop(columns=['valid_score']), \n",
    "                                                    news_data.valid_score,\n",
    "                                                    test_size=0.5, \n",
    "                                                    random_state=21)"
   ]
  },
  {
   "cell_type": "code",
   "execution_count": 4,
   "metadata": {},
   "outputs": [
    {
     "name": "stdout",
     "output_type": "stream",
     "text": [
      "(13113, 6)\n",
      "1    7220\n",
      "0    5893\n",
      "Name: valid_score, dtype: int64\n"
     ]
    },
    {
     "data": {
      "text/html": [
       "<div>\n",
       "<style scoped>\n",
       "    .dataframe tbody tr th:only-of-type {\n",
       "        vertical-align: middle;\n",
       "    }\n",
       "\n",
       "    .dataframe tbody tr th {\n",
       "        vertical-align: top;\n",
       "    }\n",
       "\n",
       "    .dataframe thead th {\n",
       "        text-align: right;\n",
       "    }\n",
       "</style>\n",
       "<table border=\"1\" class=\"dataframe\">\n",
       "  <thead>\n",
       "    <tr style=\"text-align: right;\">\n",
       "      <th></th>\n",
       "      <th>title</th>\n",
       "      <th>text</th>\n",
       "      <th>tokenized_headline</th>\n",
       "      <th>tokenized_content</th>\n",
       "      <th>type</th>\n",
       "      <th>valid_score</th>\n",
       "    </tr>\n",
       "  </thead>\n",
       "  <tbody>\n",
       "    <tr>\n",
       "      <th>0</th>\n",
       "      <td>Magnificent Jellyfish Gardens Purify The Water...</td>\n",
       "      <td>These Jellyfish Lodges are capable of purifyin...</td>\n",
       "      <td>magnificent jellyfish gardens purify the water...</td>\n",
       "      <td>these jellyfish lodges be capable of purify wa...</td>\n",
       "      <td>bs</td>\n",
       "      <td>0</td>\n",
       "    </tr>\n",
       "    <tr>\n",
       "      <th>1</th>\n",
       "      <td>Rangers land Eric Staal in deadlinesplash</td>\n",
       "      <td>Maybe this is Jeff Gortons first official year...</td>\n",
       "      <td>rangers land eric staal in deadlinesplash</td>\n",
       "      <td>maybe this be jeff gortons first official year...</td>\n",
       "      <td>New York Post</td>\n",
       "      <td>1</td>\n",
       "    </tr>\n",
       "    <tr>\n",
       "      <th>2</th>\n",
       "      <td>May Day marked with defiant rallies for worker...</td>\n",
       "      <td>ISTANBUL Workers and activists marked May Day ...</td>\n",
       "      <td>may day mark with defiant rally for worker right</td>\n",
       "      <td>istanbul workers and activist mark may day on ...</td>\n",
       "      <td>Washington Post</td>\n",
       "      <td>1</td>\n",
       "    </tr>\n",
       "    <tr>\n",
       "      <th>3</th>\n",
       "      <td>Israel Ancient Papyrus Proves Jerusalem Belong...</td>\n",
       "      <td>Fragment of Old Tax Bill Meant to Undercut Mus...</td>\n",
       "      <td>israel ancient papyrus prove jerusalem belong ...</td>\n",
       "      <td>fragment of old tax bill meant to undercut mus...</td>\n",
       "      <td>bs</td>\n",
       "      <td>0</td>\n",
       "    </tr>\n",
       "    <tr>\n",
       "      <th>4</th>\n",
       "      <td>Jos Mourinhos Manchester United how has he far...</td>\n",
       "      <td>Jos Mourinhos declaration that he would be agg...</td>\n",
       "      <td>jos mourinhos manchester united how have fare ...</td>\n",
       "      <td>jos mourinhos declaration that would be aggres...</td>\n",
       "      <td>Guardian</td>\n",
       "      <td>1</td>\n",
       "    </tr>\n",
       "  </tbody>\n",
       "</table>\n",
       "</div>"
      ],
      "text/plain": [
       "                                               title  \\\n",
       "0  Magnificent Jellyfish Gardens Purify The Water...   \n",
       "1          Rangers land Eric Staal in deadlinesplash   \n",
       "2  May Day marked with defiant rallies for worker...   \n",
       "3  Israel Ancient Papyrus Proves Jerusalem Belong...   \n",
       "4  Jos Mourinhos Manchester United how has he far...   \n",
       "\n",
       "                                                text  \\\n",
       "0  These Jellyfish Lodges are capable of purifyin...   \n",
       "1  Maybe this is Jeff Gortons first official year...   \n",
       "2  ISTANBUL Workers and activists marked May Day ...   \n",
       "3  Fragment of Old Tax Bill Meant to Undercut Mus...   \n",
       "4  Jos Mourinhos declaration that he would be agg...   \n",
       "\n",
       "                                  tokenized_headline  \\\n",
       "0  magnificent jellyfish gardens purify the water...   \n",
       "1          rangers land eric staal in deadlinesplash   \n",
       "2   may day mark with defiant rally for worker right   \n",
       "3  israel ancient papyrus prove jerusalem belong ...   \n",
       "4  jos mourinhos manchester united how have fare ...   \n",
       "\n",
       "                                   tokenized_content             type  \\\n",
       "0  these jellyfish lodges be capable of purify wa...               bs   \n",
       "1  maybe this be jeff gortons first official year...    New York Post   \n",
       "2  istanbul workers and activist mark may day on ...  Washington Post   \n",
       "3  fragment of old tax bill meant to undercut mus...               bs   \n",
       "4  jos mourinhos declaration that would be aggres...         Guardian   \n",
       "\n",
       "   valid_score  \n",
       "0            0  \n",
       "1            1  \n",
       "2            1  \n",
       "3            0  \n",
       "4            1  "
      ]
     },
     "execution_count": 4,
     "metadata": {},
     "output_type": "execute_result"
    }
   ],
   "source": [
    "news_training = pd.concat([X_train, y_train], 1).reset_index(drop=True)\n",
    "print(news_training.shape)\n",
    "print(news_training.valid_score.value_counts())\n",
    "news_training.head()"
   ]
  },
  {
   "cell_type": "code",
   "execution_count": 5,
   "metadata": {},
   "outputs": [
    {
     "name": "stdout",
     "output_type": "stream",
     "text": [
      "1    7257\n",
      "0    5857\n",
      "Name: valid_score, dtype: int64\n"
     ]
    },
    {
     "data": {
      "text/html": [
       "<div>\n",
       "<style scoped>\n",
       "    .dataframe tbody tr th:only-of-type {\n",
       "        vertical-align: middle;\n",
       "    }\n",
       "\n",
       "    .dataframe tbody tr th {\n",
       "        vertical-align: top;\n",
       "    }\n",
       "\n",
       "    .dataframe thead th {\n",
       "        text-align: right;\n",
       "    }\n",
       "</style>\n",
       "<table border=\"1\" class=\"dataframe\">\n",
       "  <thead>\n",
       "    <tr style=\"text-align: right;\">\n",
       "      <th></th>\n",
       "      <th>title</th>\n",
       "      <th>text</th>\n",
       "      <th>tokenized_headline</th>\n",
       "      <th>tokenized_content</th>\n",
       "      <th>type</th>\n",
       "      <th>valid_score</th>\n",
       "    </tr>\n",
       "  </thead>\n",
       "  <tbody>\n",
       "    <tr>\n",
       "      <th>0</th>\n",
       "      <td>6 Natural Herbs To Prevent Mental Disorders</td>\n",
       "      <td>6 Natural Herbs To Prevent Mental Disorders An...</td>\n",
       "      <td>6 natural herb to prevent mental disorder</td>\n",
       "      <td>6 natural herb to prevent mental disorders ant...</td>\n",
       "      <td>bs</td>\n",
       "      <td>0</td>\n",
       "    </tr>\n",
       "    <tr>\n",
       "      <th>1</th>\n",
       "      <td>Benjamin Crump TVs Rising Fake News Star</td>\n",
       "      <td>Hes the new Al Sharpton on steroids and hes co...</td>\n",
       "      <td>benjamin crump tv rise fake news star</td>\n",
       "      <td>s the new al sharpton on steroid and s come to...</td>\n",
       "      <td>National Review</td>\n",
       "      <td>1</td>\n",
       "    </tr>\n",
       "    <tr>\n",
       "      <th>2</th>\n",
       "      <td>Pence the Builder</td>\n",
       "      <td>If you fix it, they will build. It refers to t...</td>\n",
       "      <td>pence the builder</td>\n",
       "      <td>if fix will build refer to the government poli...</td>\n",
       "      <td>National Review</td>\n",
       "      <td>1</td>\n",
       "    </tr>\n",
       "    <tr>\n",
       "      <th>3</th>\n",
       "      <td>default_title</td>\n",
       "      <td>The statistic that Obamacare plan premiums are...</td>\n",
       "      <td>default_title</td>\n",
       "      <td>the statistic that obamacare plan premium be i...</td>\n",
       "      <td>bs</td>\n",
       "      <td>0</td>\n",
       "    </tr>\n",
       "    <tr>\n",
       "      <th>4</th>\n",
       "      <td>The frontrunner to be the next national securi...</td>\n",
       "      <td>The frontrunner to replace fired National Secu...</td>\n",
       "      <td>the frontrunner to be the next national securi...</td>\n",
       "      <td>the frontrunner to replace fire national secur...</td>\n",
       "      <td>Vox</td>\n",
       "      <td>1</td>\n",
       "    </tr>\n",
       "  </tbody>\n",
       "</table>\n",
       "</div>"
      ],
      "text/plain": [
       "                                               title  \\\n",
       "0        6 Natural Herbs To Prevent Mental Disorders   \n",
       "1           Benjamin Crump TVs Rising Fake News Star   \n",
       "2                                  Pence the Builder   \n",
       "3                                      default_title   \n",
       "4  The frontrunner to be the next national securi...   \n",
       "\n",
       "                                                text  \\\n",
       "0  6 Natural Herbs To Prevent Mental Disorders An...   \n",
       "1  Hes the new Al Sharpton on steroids and hes co...   \n",
       "2  If you fix it, they will build. It refers to t...   \n",
       "3  The statistic that Obamacare plan premiums are...   \n",
       "4  The frontrunner to replace fired National Secu...   \n",
       "\n",
       "                                  tokenized_headline  \\\n",
       "0          6 natural herb to prevent mental disorder   \n",
       "1              benjamin crump tv rise fake news star   \n",
       "2                                  pence the builder   \n",
       "3                                      default_title   \n",
       "4  the frontrunner to be the next national securi...   \n",
       "\n",
       "                                   tokenized_content             type  \\\n",
       "0  6 natural herb to prevent mental disorders ant...               bs   \n",
       "1  s the new al sharpton on steroid and s come to...  National Review   \n",
       "2  if fix will build refer to the government poli...  National Review   \n",
       "3  the statistic that obamacare plan premium be i...               bs   \n",
       "4  the frontrunner to replace fire national secur...              Vox   \n",
       "\n",
       "   valid_score  \n",
       "0            0  \n",
       "1            1  \n",
       "2            1  \n",
       "3            0  \n",
       "4            1  "
      ]
     },
     "execution_count": 5,
     "metadata": {},
     "output_type": "execute_result"
    }
   ],
   "source": [
    "news_testing = pd.concat([X_test, y_test], 1).reset_index(drop=True)\n",
    "print(news_testing.valid_score.value_counts())\n",
    "news_testing.head()"
   ]
  },
  {
   "cell_type": "markdown",
   "metadata": {},
   "source": [
    "## Format as tuples for spacy text cat."
   ]
  },
  {
   "cell_type": "code",
   "execution_count": 6,
   "metadata": {},
   "outputs": [],
   "source": [
    "news_training['tuples'] = news_training.apply(lambda row: (row.tokenized_content, row.valid_score), axis=1)"
   ]
  },
  {
   "cell_type": "code",
   "execution_count": 7,
   "metadata": {},
   "outputs": [],
   "source": [
    "train = news_training.tuples.tolist()"
   ]
  },
  {
   "cell_type": "code",
   "execution_count": 8,
   "metadata": {},
   "outputs": [],
   "source": [
    "def load_data(limit=0, split=0.8):\n",
    "    train_data = train\n",
    "    np.random.shuffle(train_data)\n",
    "    train_data = train_data[-limit:]\n",
    "    texts, labels = zip(*train_data)\n",
    "    cats = [{\"REAL\": bool(y), \"FAKE\": not bool(y)} for y in labels]\n",
    "    split = int(len(train_data) * split)\n",
    "    return (texts[:split], cats[:split]), (texts[split:], cats[split:])"
   ]
  },
  {
   "cell_type": "code",
   "execution_count": 9,
   "metadata": {},
   "outputs": [],
   "source": [
    "def evaluate(tokenizer, textcat, texts, cats):\n",
    "    docs = (tokenizer(text) for text in texts)\n",
    "    tp = 1e-8  # True positives\n",
    "    fp = 1e-8  # False positives\n",
    "    fn = 1e-8  # False negatives\n",
    "    tn = 1e-8  # True negatives\n",
    "    for i, doc in enumerate(textcat.pipe(docs)):\n",
    "        gold = cats[i]\n",
    "        for label, score in doc.cats.items():\n",
    "            if label not in gold:\n",
    "                continue\n",
    "            if score >= 0.5 and gold[label] >= 0.5:\n",
    "                tp += 1.\n",
    "            elif score >= 0.5 and gold[label] < 0.5:\n",
    "                fp += 1.\n",
    "            elif score < 0.5 and gold[label] < 0.5:\n",
    "                tn += 1\n",
    "            elif score < 0.5 and gold[label] >= 0.5:\n",
    "                fn += 1\n",
    "    precision = tp / (tp + fp)\n",
    "    recall = tp / (tp + fn)\n",
    "    f_score = 2 * (precision * recall) / (precision + recall)\n",
    "    accuracy = ((tp + tn) / (tp + tn + fp + fn))\n",
    "    return {'textcat_p': precision, 'textcat_r': recall, 'textcat_f': f_score, 'textcat_a': accuracy}"
   ]
  },
  {
   "cell_type": "code",
   "execution_count": 10,
   "metadata": {},
   "outputs": [],
   "source": [
    "nlp = spacy.load('en_core_web_lg')"
   ]
  },
  {
   "cell_type": "code",
   "execution_count": 11,
   "metadata": {},
   "outputs": [
    {
     "data": {
      "text/plain": [
       "1"
      ]
     },
     "execution_count": 11,
     "metadata": {},
     "output_type": "execute_result"
    }
   ],
   "source": [
    "if \"textcat\" not in nlp.pipe_names:\n",
    "    textcat = nlp.create_pipe(\"textcat\", config={\"exclusive_classes\": True, \"architecture\": \"simple_cnn\"})\n",
    "    nlp.add_pipe(textcat, last=True)\n",
    "    # otherwise, get it, so we can add labels to it\n",
    "else:\n",
    "    textcat = nlp.get_pipe(\"textcat\")\n",
    "\n",
    "    # add label to text classifier\n",
    "textcat.add_label(\"REAL\")\n",
    "textcat.add_label(\"FAKE\")"
   ]
  },
  {
   "cell_type": "code",
   "execution_count": 12,
   "metadata": {},
   "outputs": [],
   "source": [
    "#(\"Number of texts to train from\",\"t\" , int)\n",
    "n_texts=13113\n",
    "#You can increase texts count if you have more computational power.\n",
    "\n",
    "#(\"Number of training iterations\", \"n\", int))\n",
    "n_iter=4"
   ]
  },
  {
   "cell_type": "code",
   "execution_count": 13,
   "metadata": {},
   "outputs": [
    {
     "name": "stdout",
     "output_type": "stream",
     "text": [
      "Loading news data...\n",
      "Using 13113 examples (10490 training, 2623 evaluation)\n"
     ]
    }
   ],
   "source": [
    "print(\"Loading news data...\")\n",
    "(train_texts, train_cats), (dev_texts, dev_cats) = load_data(limit=n_texts)\n",
    "\n",
    "print(\"Using {} examples ({} training, {} evaluation)\".format(n_texts, len(train_texts), len(dev_texts)))\n",
    "\n",
    "train_data = list(zip(train_texts, [{'cats': cats} for cats in train_cats]))"
   ]
  },
  {
   "cell_type": "code",
   "execution_count": null,
   "metadata": {},
   "outputs": [],
   "source": []
  },
  {
   "cell_type": "code",
   "execution_count": null,
   "metadata": {},
   "outputs": [],
   "source": []
  },
  {
   "cell_type": "code",
   "execution_count": null,
   "metadata": {},
   "outputs": [],
   "source": []
  },
  {
   "cell_type": "code",
   "execution_count": null,
   "metadata": {},
   "outputs": [],
   "source": []
  },
  {
   "cell_type": "code",
   "execution_count": null,
   "metadata": {},
   "outputs": [],
   "source": []
  },
  {
   "cell_type": "code",
   "execution_count": 14,
   "metadata": {},
   "outputs": [
    {
     "name": "stdout",
     "output_type": "stream",
     "text": [
      "Training the model...\n",
      "LOSS \t  P  \t  R  \t  F  \t  A  \n",
      "212.729\t0.968\t0.966\t0.967\t0.967\n",
      "53.264\t0.971\t0.974\t0.972\t0.972\n",
      "23.807\t0.974\t0.974\t0.974\t0.974\n",
      "15.047\t0.976\t0.976\t0.976\t0.976\n"
     ]
    }
   ],
   "source": [
    "other_pipes = [pipe for pipe in nlp.pipe_names if pipe != 'textcat']\n",
    "\n",
    "with nlp.disable_pipes(*other_pipes):  # only train textcat\n",
    "    optimizer = nlp.begin_training()\n",
    "    print(\"Training the model...\")\n",
    "    print('{:^5}\\t{:^5}\\t{:^5}\\t{:^5}\\t{:^5}'.format('LOSS', 'P', 'R', 'F', 'A'))\n",
    "    for i in range(n_iter):\n",
    "        losses = {}\n",
    "        # batch up the examples using spaCy's minibatch\n",
    "        batches = minibatch(train_data, size=compounding(4., 32., 1.001))\n",
    "        for batch in batches:\n",
    "            texts, annotations = zip(*batch)\n",
    "            nlp.update(texts, annotations, sgd=optimizer, drop=0.2,\n",
    "                       losses=losses)\n",
    "        with textcat.model.use_params(optimizer.averages):\n",
    "            # evaluate on the dev data split off in load_data()\n",
    "            scores = evaluate(nlp.tokenizer, textcat, dev_texts, dev_cats)\n",
    "        print('{0:.3f}\\t{1:.3f}\\t{2:.3f}\\t{3:.3f}\\t{4:.3}'  # print a simple table\n",
    "              .format(losses['textcat'], \n",
    "                      scores['textcat_p'], \n",
    "                      scores['textcat_r'], \n",
    "                      scores['textcat_f'], \n",
    "                      scores['textcat_a']))"
   ]
  },
  {
   "cell_type": "code",
   "execution_count": 22,
   "metadata": {},
   "outputs": [
    {
     "data": {
      "text/plain": [
       "{'REAL': 5.1437749789329246e-05, 'FAKE': 0.9999263286590576}"
      ]
     },
     "execution_count": 22,
     "metadata": {},
     "output_type": "execute_result"
    }
   ],
   "source": [
    "test_fake = news_data.iloc[1].tokenized_content\n",
    "fake_doc = nlp_bk(test_fake)\n",
    "\n",
    "fake_doc.cats"
   ]
  },
  {
   "cell_type": "code",
   "execution_count": 23,
   "metadata": {},
   "outputs": [
    {
     "data": {
      "text/plain": [
       "{'REAL': 0.9999545812606812, 'FAKE': 5.2238716307329014e-05}"
      ]
     },
     "execution_count": 23,
     "metadata": {},
     "output_type": "execute_result"
    }
   ],
   "source": [
    "test_real = news_data.iloc[11750].tokenized_content\n",
    "\n",
    "real_doc = nlp_bk(test_real)\n",
    "real_doc.cats"
   ]
  },
  {
   "cell_type": "code",
   "execution_count": 15,
   "metadata": {},
   "outputs": [],
   "source": [
    "nlp.to_disk(path='/Users/briankalinowski/Desktop/Data/spacy/bk_textcat_model')"
   ]
  },
  {
   "cell_type": "code",
   "execution_count": 50,
   "metadata": {},
   "outputs": [],
   "source": [
    "nlp_bk = spacy.load('/Users/briankalinowski/Desktop/Data/spacy/bk_textcat_model', \n",
    "                    disable=['parser', 'tagger', 'ner'])"
   ]
  },
  {
   "cell_type": "markdown",
   "metadata": {},
   "source": [
    "# make predictions with trained text cat "
   ]
  },
  {
   "cell_type": "code",
   "execution_count": 58,
   "metadata": {},
   "outputs": [],
   "source": [
    "all_articles = [str(art) for art in news_testing.tokenized_content]\n",
    "\n",
    "text_cat_pipe = nlp_bk.pipe(all_articles)"
   ]
  },
  {
   "cell_type": "code",
   "execution_count": 59,
   "metadata": {},
   "outputs": [],
   "source": [
    "text_scores = [doc.cats for doc in text_cat_pipe]"
   ]
  },
  {
   "cell_type": "code",
   "execution_count": 93,
   "metadata": {},
   "outputs": [
    {
     "data": {
      "text/plain": [
       "[{'REAL': 4.539787187241018e-05, 'FAKE': 0.9999545812606812},\n",
       " {'REAL': 0.9997515082359314, 'FAKE': 0.00035842484794557095},\n",
       " {'REAL': 0.9999545812606812, 'FAKE': 4.539787187241018e-05},\n",
       " {'REAL': 0.004064885433763266, 'FAKE': 0.9936568140983582},\n",
       " {'REAL': 0.9999545812606812, 'FAKE': 4.539787187241018e-05},\n",
       " {'REAL': 0.9999545812606812, 'FAKE': 4.539787187241018e-05},\n",
       " {'REAL': 4.539787187241018e-05, 'FAKE': 0.9999545812606812},\n",
       " {'REAL': 0.9999483823776245, 'FAKE': 0.00024112335813697428},\n",
       " {'REAL': 4.539787187241018e-05, 'FAKE': 0.9999545812606812},\n",
       " {'REAL': 4.539787187241018e-05, 'FAKE': 0.9999545812606812}]"
      ]
     },
     "execution_count": 93,
     "metadata": {},
     "output_type": "execute_result"
    }
   ],
   "source": [
    "text_scores[0:10]"
   ]
  },
  {
   "cell_type": "code",
   "execution_count": 248,
   "metadata": {},
   "outputs": [],
   "source": [
    "text_cat_scores_df = pd.DataFrame(text_scores)"
   ]
  },
  {
   "cell_type": "code",
   "execution_count": 249,
   "metadata": {},
   "outputs": [
    {
     "data": {
      "text/html": [
       "<div>\n",
       "<style scoped>\n",
       "    .dataframe tbody tr th:only-of-type {\n",
       "        vertical-align: middle;\n",
       "    }\n",
       "\n",
       "    .dataframe tbody tr th {\n",
       "        vertical-align: top;\n",
       "    }\n",
       "\n",
       "    .dataframe thead th {\n",
       "        text-align: right;\n",
       "    }\n",
       "</style>\n",
       "<table border=\"1\" class=\"dataframe\">\n",
       "  <thead>\n",
       "    <tr style=\"text-align: right;\">\n",
       "      <th></th>\n",
       "      <th>REAL</th>\n",
       "      <th>FAKE</th>\n",
       "    </tr>\n",
       "  </thead>\n",
       "  <tbody>\n",
       "    <tr>\n",
       "      <th>0</th>\n",
       "      <td>0.000045</td>\n",
       "      <td>0.999955</td>\n",
       "    </tr>\n",
       "    <tr>\n",
       "      <th>1</th>\n",
       "      <td>0.999752</td>\n",
       "      <td>0.000358</td>\n",
       "    </tr>\n",
       "    <tr>\n",
       "      <th>2</th>\n",
       "      <td>0.999955</td>\n",
       "      <td>0.000045</td>\n",
       "    </tr>\n",
       "    <tr>\n",
       "      <th>3</th>\n",
       "      <td>0.004065</td>\n",
       "      <td>0.993657</td>\n",
       "    </tr>\n",
       "    <tr>\n",
       "      <th>4</th>\n",
       "      <td>0.999955</td>\n",
       "      <td>0.000045</td>\n",
       "    </tr>\n",
       "  </tbody>\n",
       "</table>\n",
       "</div>"
      ],
      "text/plain": [
       "       REAL      FAKE\n",
       "0  0.000045  0.999955\n",
       "1  0.999752  0.000358\n",
       "2  0.999955  0.000045\n",
       "3  0.004065  0.993657\n",
       "4  0.999955  0.000045"
      ]
     },
     "execution_count": 249,
     "metadata": {},
     "output_type": "execute_result"
    }
   ],
   "source": [
    "text_cat_scores_df.head()"
   ]
  },
  {
   "cell_type": "code",
   "execution_count": 250,
   "metadata": {},
   "outputs": [],
   "source": [
    "def assign_valid_class(row):\n",
    "    # sum of the REAL and Fake scores (they are not probabilities) \n",
    "    score_sum = (row.REAL + row.FAKE) \n",
    "    \n",
    "    # divide each score by their sum for weighted probabilities\n",
    "    weighted_real = row.REAL / score_sum   \n",
    "    weighted_fake = row.FAKE / score_sum\n",
    "\n",
    "    if (weighted_real > weighted_fake) and (row.REAL >= 0.5) and (row.FAKE < 0.5):  \n",
    "        valid_class = 1\n",
    "    elif weighted_real < weighted_fake and (row.FAKE >= 0.5) and (row.REAL < 0.5):\n",
    "        valid_class = 0\n",
    "    else:\n",
    "        # just default to the raw scores \n",
    "        if row.REAL > row.FAKE:\n",
    "            valid_class = 1\n",
    "        else:\n",
    "            valid_class = 0\n",
    "    return valid_class \n",
    "\n",
    "\n",
    "\n",
    "def real_weighted(row):\n",
    "    return row.REAL / (row.REAL + row.FAKE)\n",
    "\n",
    "\n",
    "def fake_weighted(row):\n",
    "    return row.FAKE / (row.REAL + row.FAKE)\n",
    "\n",
    "\n",
    "def scores_abs(row):\n",
    "    return abs((row.REAL - row.FAKE))\n"
   ]
  },
  {
   "cell_type": "code",
   "execution_count": 251,
   "metadata": {},
   "outputs": [],
   "source": [
    "text_cat_scores_df['real_weighted_score'] = text_cat_scores_df.apply(real_weighted, axis=1)\n",
    "\n",
    "text_cat_scores_df['fake_weighted_score'] = text_cat_scores_df.apply(fake_weighted, axis=1)\n",
    "\n",
    "text_cat_scores_df['score_abs'] = text_cat_scores_df.apply(scores_abs, axis=1)\n",
    "\n",
    "text_cat_scores_df['valid_prediction'] = text_cat_scores_df.apply(assign_valid_class, axis=1)"
   ]
  },
  {
   "cell_type": "code",
   "execution_count": 252,
   "metadata": {},
   "outputs": [],
   "source": [
    "news_predictions = pd.concat([news_testing, text_cat_scores_df], 1)"
   ]
  },
  {
   "cell_type": "code",
   "execution_count": 253,
   "metadata": {},
   "outputs": [
    {
     "data": {
      "text/plain": [
       "(13114, 12)"
      ]
     },
     "execution_count": 253,
     "metadata": {},
     "output_type": "execute_result"
    }
   ],
   "source": [
    "news_predictions.shape"
   ]
  },
  {
   "cell_type": "code",
   "execution_count": 254,
   "metadata": {},
   "outputs": [],
   "source": [
    "from sklearn.metrics import confusion_matrix, classification_report\n",
    "\n",
    "conf_matrix = pd.DataFrame(confusion_matrix(news_predictions.valid_score, \n",
    "                                            news_predictions.valid_prediction, \n",
    "                                            labels=[0, 1]),\n",
    "                               index=['True_fake', 'True_real'],\n",
    "                               columns=['Predict_fake', 'Predict_real'])\n",
    "\n",
    "conf_matrix['True_Totals'] = [sum(row) for row in conf_matrix.values]\n",
    "\n",
    "\n",
    "labels = ['fake', 'real']\n",
    "\n",
    "class_report = pd.DataFrame(classification_report(news_predictions.valid_score, \n",
    "                                                  news_predictions.valid_prediction, \n",
    "                                                  target_names=labels, output_dict=True)).transpose()\n"
   ]
  },
  {
   "cell_type": "code",
   "execution_count": 255,
   "metadata": {},
   "outputs": [
    {
     "data": {
      "text/html": [
       "<div>\n",
       "<style scoped>\n",
       "    .dataframe tbody tr th:only-of-type {\n",
       "        vertical-align: middle;\n",
       "    }\n",
       "\n",
       "    .dataframe tbody tr th {\n",
       "        vertical-align: top;\n",
       "    }\n",
       "\n",
       "    .dataframe thead th {\n",
       "        text-align: right;\n",
       "    }\n",
       "</style>\n",
       "<table border=\"1\" class=\"dataframe\">\n",
       "  <thead>\n",
       "    <tr style=\"text-align: right;\">\n",
       "      <th></th>\n",
       "      <th>Predict_fake</th>\n",
       "      <th>Predict_real</th>\n",
       "      <th>True_Totals</th>\n",
       "    </tr>\n",
       "  </thead>\n",
       "  <tbody>\n",
       "    <tr>\n",
       "      <th>True_fake</th>\n",
       "      <td>5664</td>\n",
       "      <td>193</td>\n",
       "      <td>5857</td>\n",
       "    </tr>\n",
       "    <tr>\n",
       "      <th>True_real</th>\n",
       "      <td>164</td>\n",
       "      <td>7093</td>\n",
       "      <td>7257</td>\n",
       "    </tr>\n",
       "  </tbody>\n",
       "</table>\n",
       "</div>"
      ],
      "text/plain": [
       "           Predict_fake  Predict_real  True_Totals\n",
       "True_fake          5664           193         5857\n",
       "True_real           164          7093         7257"
      ]
     },
     "execution_count": 255,
     "metadata": {},
     "output_type": "execute_result"
    }
   ],
   "source": [
    "conf_matrix"
   ]
  },
  {
   "cell_type": "code",
   "execution_count": 256,
   "metadata": {},
   "outputs": [
    {
     "data": {
      "text/html": [
       "<div>\n",
       "<style scoped>\n",
       "    .dataframe tbody tr th:only-of-type {\n",
       "        vertical-align: middle;\n",
       "    }\n",
       "\n",
       "    .dataframe tbody tr th {\n",
       "        vertical-align: top;\n",
       "    }\n",
       "\n",
       "    .dataframe thead th {\n",
       "        text-align: right;\n",
       "    }\n",
       "</style>\n",
       "<table border=\"1\" class=\"dataframe\">\n",
       "  <thead>\n",
       "    <tr style=\"text-align: right;\">\n",
       "      <th></th>\n",
       "      <th>precision</th>\n",
       "      <th>recall</th>\n",
       "      <th>f1-score</th>\n",
       "      <th>support</th>\n",
       "    </tr>\n",
       "  </thead>\n",
       "  <tbody>\n",
       "    <tr>\n",
       "      <th>fake</th>\n",
       "      <td>0.971860</td>\n",
       "      <td>0.967048</td>\n",
       "      <td>0.969448</td>\n",
       "      <td>5857.000000</td>\n",
       "    </tr>\n",
       "    <tr>\n",
       "      <th>real</th>\n",
       "      <td>0.973511</td>\n",
       "      <td>0.977401</td>\n",
       "      <td>0.975452</td>\n",
       "      <td>7257.000000</td>\n",
       "    </tr>\n",
       "    <tr>\n",
       "      <th>accuracy</th>\n",
       "      <td>0.972777</td>\n",
       "      <td>0.972777</td>\n",
       "      <td>0.972777</td>\n",
       "      <td>0.972777</td>\n",
       "    </tr>\n",
       "    <tr>\n",
       "      <th>macro avg</th>\n",
       "      <td>0.972685</td>\n",
       "      <td>0.972225</td>\n",
       "      <td>0.972450</td>\n",
       "      <td>13114.000000</td>\n",
       "    </tr>\n",
       "    <tr>\n",
       "      <th>weighted avg</th>\n",
       "      <td>0.972774</td>\n",
       "      <td>0.972777</td>\n",
       "      <td>0.972771</td>\n",
       "      <td>13114.000000</td>\n",
       "    </tr>\n",
       "  </tbody>\n",
       "</table>\n",
       "</div>"
      ],
      "text/plain": [
       "              precision    recall  f1-score       support\n",
       "fake           0.971860  0.967048  0.969448   5857.000000\n",
       "real           0.973511  0.977401  0.975452   7257.000000\n",
       "accuracy       0.972777  0.972777  0.972777      0.972777\n",
       "macro avg      0.972685  0.972225  0.972450  13114.000000\n",
       "weighted avg   0.972774  0.972777  0.972771  13114.000000"
      ]
     },
     "execution_count": 256,
     "metadata": {},
     "output_type": "execute_result"
    }
   ],
   "source": [
    "class_report"
   ]
  },
  {
   "cell_type": "code",
   "execution_count": 257,
   "metadata": {},
   "outputs": [
    {
     "data": {
      "text/html": [
       "<div>\n",
       "<style scoped>\n",
       "    .dataframe tbody tr th:only-of-type {\n",
       "        vertical-align: middle;\n",
       "    }\n",
       "\n",
       "    .dataframe tbody tr th {\n",
       "        vertical-align: top;\n",
       "    }\n",
       "\n",
       "    .dataframe thead th {\n",
       "        text-align: right;\n",
       "    }\n",
       "</style>\n",
       "<table border=\"1\" class=\"dataframe\">\n",
       "  <thead>\n",
       "    <tr style=\"text-align: right;\">\n",
       "      <th></th>\n",
       "      <th>title</th>\n",
       "      <th>text</th>\n",
       "      <th>tokenized_headline</th>\n",
       "      <th>tokenized_content</th>\n",
       "      <th>type</th>\n",
       "      <th>valid_score</th>\n",
       "      <th>REAL</th>\n",
       "      <th>FAKE</th>\n",
       "      <th>real_weighted_score</th>\n",
       "      <th>fake_weighted_score</th>\n",
       "      <th>score_abs</th>\n",
       "      <th>valid_prediction</th>\n",
       "    </tr>\n",
       "  </thead>\n",
       "  <tbody>\n",
       "    <tr>\n",
       "      <th>0</th>\n",
       "      <td>6 Natural Herbs To Prevent Mental Disorders</td>\n",
       "      <td>6 Natural Herbs To Prevent Mental Disorders An...</td>\n",
       "      <td>6 natural herb to prevent mental disorder</td>\n",
       "      <td>6 natural herb to prevent mental disorders ant...</td>\n",
       "      <td>bs</td>\n",
       "      <td>0</td>\n",
       "      <td>0.000045</td>\n",
       "      <td>0.999955</td>\n",
       "      <td>0.000045</td>\n",
       "      <td>0.999955</td>\n",
       "      <td>0.999909</td>\n",
       "      <td>0</td>\n",
       "    </tr>\n",
       "    <tr>\n",
       "      <th>1</th>\n",
       "      <td>Benjamin Crump TVs Rising Fake News Star</td>\n",
       "      <td>Hes the new Al Sharpton on steroids and hes co...</td>\n",
       "      <td>benjamin crump tv rise fake news star</td>\n",
       "      <td>s the new al sharpton on steroid and s come to...</td>\n",
       "      <td>National Review</td>\n",
       "      <td>1</td>\n",
       "      <td>0.999752</td>\n",
       "      <td>0.000358</td>\n",
       "      <td>0.999642</td>\n",
       "      <td>0.000358</td>\n",
       "      <td>0.999393</td>\n",
       "      <td>1</td>\n",
       "    </tr>\n",
       "    <tr>\n",
       "      <th>2</th>\n",
       "      <td>Pence the Builder</td>\n",
       "      <td>If you fix it, they will build. It refers to t...</td>\n",
       "      <td>pence the builder</td>\n",
       "      <td>if fix will build refer to the government poli...</td>\n",
       "      <td>National Review</td>\n",
       "      <td>1</td>\n",
       "      <td>0.999955</td>\n",
       "      <td>0.000045</td>\n",
       "      <td>0.999955</td>\n",
       "      <td>0.000045</td>\n",
       "      <td>0.999909</td>\n",
       "      <td>1</td>\n",
       "    </tr>\n",
       "    <tr>\n",
       "      <th>3</th>\n",
       "      <td>default_title</td>\n",
       "      <td>The statistic that Obamacare plan premiums are...</td>\n",
       "      <td>default_title</td>\n",
       "      <td>the statistic that obamacare plan premium be i...</td>\n",
       "      <td>bs</td>\n",
       "      <td>0</td>\n",
       "      <td>0.004065</td>\n",
       "      <td>0.993657</td>\n",
       "      <td>0.004074</td>\n",
       "      <td>0.995926</td>\n",
       "      <td>0.989592</td>\n",
       "      <td>0</td>\n",
       "    </tr>\n",
       "    <tr>\n",
       "      <th>4</th>\n",
       "      <td>The frontrunner to be the next national securi...</td>\n",
       "      <td>The frontrunner to replace fired National Secu...</td>\n",
       "      <td>the frontrunner to be the next national securi...</td>\n",
       "      <td>the frontrunner to replace fire national secur...</td>\n",
       "      <td>Vox</td>\n",
       "      <td>1</td>\n",
       "      <td>0.999955</td>\n",
       "      <td>0.000045</td>\n",
       "      <td>0.999955</td>\n",
       "      <td>0.000045</td>\n",
       "      <td>0.999909</td>\n",
       "      <td>1</td>\n",
       "    </tr>\n",
       "  </tbody>\n",
       "</table>\n",
       "</div>"
      ],
      "text/plain": [
       "                                               title  \\\n",
       "0        6 Natural Herbs To Prevent Mental Disorders   \n",
       "1           Benjamin Crump TVs Rising Fake News Star   \n",
       "2                                  Pence the Builder   \n",
       "3                                      default_title   \n",
       "4  The frontrunner to be the next national securi...   \n",
       "\n",
       "                                                text  \\\n",
       "0  6 Natural Herbs To Prevent Mental Disorders An...   \n",
       "1  Hes the new Al Sharpton on steroids and hes co...   \n",
       "2  If you fix it, they will build. It refers to t...   \n",
       "3  The statistic that Obamacare plan premiums are...   \n",
       "4  The frontrunner to replace fired National Secu...   \n",
       "\n",
       "                                  tokenized_headline  \\\n",
       "0          6 natural herb to prevent mental disorder   \n",
       "1              benjamin crump tv rise fake news star   \n",
       "2                                  pence the builder   \n",
       "3                                      default_title   \n",
       "4  the frontrunner to be the next national securi...   \n",
       "\n",
       "                                   tokenized_content             type  \\\n",
       "0  6 natural herb to prevent mental disorders ant...               bs   \n",
       "1  s the new al sharpton on steroid and s come to...  National Review   \n",
       "2  if fix will build refer to the government poli...  National Review   \n",
       "3  the statistic that obamacare plan premium be i...               bs   \n",
       "4  the frontrunner to replace fire national secur...              Vox   \n",
       "\n",
       "   valid_score      REAL      FAKE  real_weighted_score  fake_weighted_score  \\\n",
       "0            0  0.000045  0.999955             0.000045             0.999955   \n",
       "1            1  0.999752  0.000358             0.999642             0.000358   \n",
       "2            1  0.999955  0.000045             0.999955             0.000045   \n",
       "3            0  0.004065  0.993657             0.004074             0.995926   \n",
       "4            1  0.999955  0.000045             0.999955             0.000045   \n",
       "\n",
       "   score_abs  valid_prediction  \n",
       "0   0.999909                 0  \n",
       "1   0.999393                 1  \n",
       "2   0.999909                 1  \n",
       "3   0.989592                 0  \n",
       "4   0.999909                 1  "
      ]
     },
     "execution_count": 257,
     "metadata": {},
     "output_type": "execute_result"
    }
   ],
   "source": [
    "news_predictions.head()"
   ]
  },
  {
   "cell_type": "code",
   "execution_count": 263,
   "metadata": {},
   "outputs": [
    {
     "data": {
      "text/html": [
       "<div>\n",
       "<style scoped>\n",
       "    .dataframe tbody tr th:only-of-type {\n",
       "        vertical-align: middle;\n",
       "    }\n",
       "\n",
       "    .dataframe tbody tr th {\n",
       "        vertical-align: top;\n",
       "    }\n",
       "\n",
       "    .dataframe thead th {\n",
       "        text-align: right;\n",
       "    }\n",
       "</style>\n",
       "<table border=\"1\" class=\"dataframe\">\n",
       "  <thead>\n",
       "    <tr style=\"text-align: right;\">\n",
       "      <th></th>\n",
       "      <th>title</th>\n",
       "      <th>text</th>\n",
       "      <th>tokenized_headline</th>\n",
       "      <th>tokenized_content</th>\n",
       "      <th>type</th>\n",
       "      <th>valid_score</th>\n",
       "      <th>REAL</th>\n",
       "      <th>FAKE</th>\n",
       "      <th>real_weighted_score</th>\n",
       "      <th>fake_weighted_score</th>\n",
       "      <th>score_abs</th>\n",
       "      <th>valid_prediction</th>\n",
       "    </tr>\n",
       "  </thead>\n",
       "  <tbody>\n",
       "    <tr>\n",
       "      <th>0</th>\n",
       "      <td>Barrel Bomb The Cataclysmic Close of Campaign ...</td>\n",
       "      <td>Barrel Bomb The Cataclysmic Close of Campaign ...</td>\n",
       "      <td>barrel bomb the cataclysmic close of campaign ...</td>\n",
       "      <td>barrel bomb the cataclysmic close of campaign ...</td>\n",
       "      <td>bs</td>\n",
       "      <td>0</td>\n",
       "      <td>0.489181</td>\n",
       "      <td>0.487701</td>\n",
       "      <td>0.500757</td>\n",
       "      <td>0.499243</td>\n",
       "      <td>0.001480</td>\n",
       "      <td>1</td>\n",
       "    </tr>\n",
       "    <tr>\n",
       "      <th>1</th>\n",
       "      <td>Berkley Professor Claims Hillary Clinton Email...</td>\n",
       "      <td>at 347 pm Leave a comment Todays collegerelate...</td>\n",
       "      <td>berkley professor claims hillary clinton email...</td>\n",
       "      <td>at 347 pm leave a comment todays collegerelate...</td>\n",
       "      <td>bs</td>\n",
       "      <td>0</td>\n",
       "      <td>0.451637</td>\n",
       "      <td>0.446524</td>\n",
       "      <td>0.502847</td>\n",
       "      <td>0.497153</td>\n",
       "      <td>0.005114</td>\n",
       "      <td>1</td>\n",
       "    </tr>\n",
       "    <tr>\n",
       "      <th>2</th>\n",
       "      <td>The Left Must Mobilize In The Face Of A Trump ...</td>\n",
       "      <td>American liberals are now living a nightmare t...</td>\n",
       "      <td>the left must mobilize in the face of a trump ...</td>\n",
       "      <td>american liberal be now live a nightmare never...</td>\n",
       "      <td>bs</td>\n",
       "      <td>0</td>\n",
       "      <td>0.480691</td>\n",
       "      <td>0.473910</td>\n",
       "      <td>0.503552</td>\n",
       "      <td>0.496448</td>\n",
       "      <td>0.006782</td>\n",
       "      <td>1</td>\n",
       "    </tr>\n",
       "    <tr>\n",
       "      <th>3</th>\n",
       "      <td>Poland is Empowering Women with Free, Nationwi...</td>\n",
       "      <td>Poland is Empowering Women with Free, Nationwi...</td>\n",
       "      <td>poland be empower women with free nationwide s...</td>\n",
       "      <td>poland be empower women with free nationwide s...</td>\n",
       "      <td>bs</td>\n",
       "      <td>0</td>\n",
       "      <td>0.502464</td>\n",
       "      <td>0.492981</td>\n",
       "      <td>0.504763</td>\n",
       "      <td>0.495237</td>\n",
       "      <td>0.009483</td>\n",
       "      <td>1</td>\n",
       "    </tr>\n",
       "    <tr>\n",
       "      <th>4</th>\n",
       "      <td>Polling Site Corruption Enraged New Yorkers Up...</td>\n",
       "      <td>Polling site corruption enraged voters on Nove...</td>\n",
       "      <td>poll site corruption enrage new yorkers update...</td>\n",
       "      <td>polling site corruption enrage voter on novemb...</td>\n",
       "      <td>bs</td>\n",
       "      <td>0</td>\n",
       "      <td>0.435115</td>\n",
       "      <td>0.422819</td>\n",
       "      <td>0.507166</td>\n",
       "      <td>0.492834</td>\n",
       "      <td>0.012296</td>\n",
       "      <td>1</td>\n",
       "    </tr>\n",
       "  </tbody>\n",
       "</table>\n",
       "</div>"
      ],
      "text/plain": [
       "                                               title  \\\n",
       "0  Barrel Bomb The Cataclysmic Close of Campaign ...   \n",
       "1  Berkley Professor Claims Hillary Clinton Email...   \n",
       "2  The Left Must Mobilize In The Face Of A Trump ...   \n",
       "3  Poland is Empowering Women with Free, Nationwi...   \n",
       "4  Polling Site Corruption Enraged New Yorkers Up...   \n",
       "\n",
       "                                                text  \\\n",
       "0  Barrel Bomb The Cataclysmic Close of Campaign ...   \n",
       "1  at 347 pm Leave a comment Todays collegerelate...   \n",
       "2  American liberals are now living a nightmare t...   \n",
       "3  Poland is Empowering Women with Free, Nationwi...   \n",
       "4  Polling site corruption enraged voters on Nove...   \n",
       "\n",
       "                                  tokenized_headline  \\\n",
       "0  barrel bomb the cataclysmic close of campaign ...   \n",
       "1  berkley professor claims hillary clinton email...   \n",
       "2  the left must mobilize in the face of a trump ...   \n",
       "3  poland be empower women with free nationwide s...   \n",
       "4  poll site corruption enrage new yorkers update...   \n",
       "\n",
       "                                   tokenized_content type  valid_score  \\\n",
       "0  barrel bomb the cataclysmic close of campaign ...   bs            0   \n",
       "1  at 347 pm leave a comment todays collegerelate...   bs            0   \n",
       "2  american liberal be now live a nightmare never...   bs            0   \n",
       "3  poland be empower women with free nationwide s...   bs            0   \n",
       "4  polling site corruption enrage voter on novemb...   bs            0   \n",
       "\n",
       "       REAL      FAKE  real_weighted_score  fake_weighted_score  score_abs  \\\n",
       "0  0.489181  0.487701             0.500757             0.499243   0.001480   \n",
       "1  0.451637  0.446524             0.502847             0.497153   0.005114   \n",
       "2  0.480691  0.473910             0.503552             0.496448   0.006782   \n",
       "3  0.502464  0.492981             0.504763             0.495237   0.009483   \n",
       "4  0.435115  0.422819             0.507166             0.492834   0.012296   \n",
       "\n",
       "   valid_prediction  \n",
       "0                 1  \n",
       "1                 1  \n",
       "2                 1  \n",
       "3                 1  \n",
       "4                 1  "
      ]
     },
     "execution_count": 263,
     "metadata": {},
     "output_type": "execute_result"
    }
   ],
   "source": [
    "errors_df = news_predictions[news_predictions.valid_score != news_predictions.valid_prediction]\n",
    "errors_df = errors_df.sort_values(by='score_abs').reset_index(drop=True)\n",
    "errors_df.head()"
   ]
  },
  {
   "cell_type": "code",
   "execution_count": 264,
   "metadata": {},
   "outputs": [
    {
     "data": {
      "text/plain": [
       "bs                     155\n",
       "Breitbart               37\n",
       "Guardian                26\n",
       "National Review         18\n",
       "hate                    18\n",
       "Business Insider        13\n",
       "bias                    13\n",
       "Vox                     13\n",
       "New York Post           12\n",
       "Washington Post         11\n",
       "CNN                     10\n",
       "Atlantic                 9\n",
       "satire                   5\n",
       "Fox News                 5\n",
       "NPR                      3\n",
       "New York Times           3\n",
       "Buzzfeed News            3\n",
       "Talking Points Memo      1\n",
       "junksci                  1\n",
       "conspiracy               1\n",
       "Name: type, dtype: int64"
      ]
     },
     "execution_count": 264,
     "metadata": {},
     "output_type": "execute_result"
    }
   ],
   "source": [
    "errors_df.type.value_counts()"
   ]
  },
  {
   "cell_type": "code",
   "execution_count": null,
   "metadata": {},
   "outputs": [],
   "source": []
  },
  {
   "cell_type": "code",
   "execution_count": 76,
   "metadata": {},
   "outputs": [],
   "source": [
    "from sklearn.metrics import precision_recall_curve, roc_curve, average_precision_score\n",
    "import matplotlib.pyplot as plt\n",
    "import seaborn as sns\n",
    "\n",
    "def plot_pre_rec_curve(y_test: pd.Series, probabilities: pd.Series) -> NoReturn:\n",
    "    precision, recall, thresholds = precision_recall_curve(y_test, probabilities)\n",
    "    plt.plot([0, 1], [0.5, 0.5], linestyle='--')\n",
    "    # plot the precision-recall curve for the model\n",
    "    plt.plot(recall, precision, marker='.')\n",
    "    average_precision = average_precision_score(y_test, probabilities)\n",
    "    plt.title('Precision-Recall curve: \\nAverage Precision-Recall Score = {0:0.2f}'.format(\n",
    "        average_precision), fontsize=16)\n",
    "    plt.xlabel('Recall')\n",
    "    plt.ylabel('Precision')\n",
    "    # show the plot\n",
    "    plt.show()\n",
    "    \n",
    "    \n",
    "def plot_roc(y_test: pd.Series, probabilities: pd.Series) -> NoReturn:\n",
    "    fpr, tpr, thresholds = roc_curve(y_test, probabilities)\n",
    "    # plot 50/50 line\n",
    "    plt.plot([0, 1], [0, 1], linestyle='--')\n",
    "    # plot the roc curve for the model\n",
    "    plt.plot(fpr, tpr, marker='.')\n",
    "    plt.title('ROC curve:', fontsize=16)\n",
    "    plt.xlabel('False Positive Rate')\n",
    "    plt.ylabel('True Positive Rate')\n",
    "    # show the plot\n",
    "    plt.show()"
   ]
  },
  {
   "cell_type": "code",
   "execution_count": 77,
   "metadata": {},
   "outputs": [
    {
     "data": {
      "image/png": "[encoded data removed]",
      "text/plain": [
       "<Figure size 2160x720 with 1 Axes>"
      ]
     },
     "metadata": {
      "needs_background": "light"
     },
     "output_type": "display_data"
    }
   ],
   "source": [
    "plt.figure(figsize=(30,10))\n",
    "plot_roc(news_predictions.valid_score, news_predictions.REAL)"
   ]
  },
  {
   "cell_type": "code",
   "execution_count": 78,
   "metadata": {},
   "outputs": [
    {
     "data": {
      "image/png": "[encoded data removed]",
      "text/plain": [
       "<Figure size 432x288 with 1 Axes>"
      ]
     },
     "metadata": {
      "needs_background": "light"
     },
     "output_type": "display_data"
    }
   ],
   "source": [
    "plot_pre_rec_curve(news_predictions.valid_score, news_predictions.REAL)"
   ]
  },
  {
   "cell_type": "code",
   "execution_count": null,
   "metadata": {},
   "outputs": [],
   "source": []
  }
 ],
 "metadata": {
  "kernelspec": {
   "display_name": "Python 3",
   "language": "python",
   "name": "python3"
  },
  "language_info": {
   "codemirror_mode": {
    "name": "ipython",
    "version": 3
   },
   "file_extension": ".py",
   "mimetype": "text/x-python",
   "name": "python",
   "nbconvert_exporter": "python",
   "pygments_lexer": "ipython3",
   "version": "3.7.5"
  }
 },
 "nbformat": 4,
 "nbformat_minor": 2
}
